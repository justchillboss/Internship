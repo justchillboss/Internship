{
 "cells": [
  {
   "cell_type": "code",
   "execution_count": 1,
   "id": "e914066e",
   "metadata": {},
   "outputs": [],
   "source": [
    "## Importing Important Libraries\n",
    "\n",
    "import pandas as pd\n",
    "import selenium\n",
    "from selenium import webdriver\n",
    "from selenium.webdriver.common.by import By\n",
    "import warnings\n",
    "warnings.filterwarnings('ignore')\n",
    "import time"
   ]
  },
  {
   "cell_type": "code",
   "execution_count": 2,
   "id": "f0b7a601",
   "metadata": {},
   "outputs": [],
   "source": [
    "# Path of ChromeDriver\n",
    "\n",
    "driver = webdriver.Chrome(r\"C:\\Program Files (x86)\\chromedriver.exe\")"
   ]
  },
  {
   "cell_type": "code",
   "execution_count": 3,
   "id": "8b7dbdc1",
   "metadata": {},
   "outputs": [],
   "source": [
    "# Getting on Website of Naukri.com\n",
    "\n",
    "driver.get(\"https://www.naukri.com/\")"
   ]
  },
  {
   "cell_type": "code",
   "execution_count": 5,
   "id": "059ee84d",
   "metadata": {},
   "outputs": [],
   "source": [
    "# Typing Data Analyst on Search Skill Box\n",
    "\n",
    "designation = driver.find_element(By.XPATH,'/html/body/div[1]/div[7]/div/div/div[1]/div/div/div/div[1]/div/input')\n",
    "designation.send_keys('Data Analyst')"
   ]
  },
  {
   "cell_type": "code",
   "execution_count": 6,
   "id": "d59d647a",
   "metadata": {},
   "outputs": [],
   "source": [
    "# Typing Bangalore on the select Location Box\n",
    "\n",
    "location = driver.find_element(By.XPATH,'/html/body/div[1]/div[7]/div/div/div[5]/div/div/div/div[1]/div/input')\n",
    "location.send_keys('Bangalore')"
   ]
  },
  {
   "cell_type": "code",
   "execution_count": 7,
   "id": "e9afc729",
   "metadata": {},
   "outputs": [],
   "source": [
    "# Searching for the field Data Analyst and location Bangalore by clicking on Search button \n",
    "\n",
    "search = driver.find_element(By.XPATH,'/html/body/div[1]/div[7]/div/div/div[6]')\n",
    "search.click()"
   ]
  },
  {
   "cell_type": "code",
   "execution_count": 8,
   "id": "997d386e",
   "metadata": {},
   "outputs": [
    {
     "data": {
      "text/plain": [
       "['Data Engineer/Data Analyst',\n",
       " 'Data Analyst',\n",
       " 'Data Analyst',\n",
       " 'Data Analyst - Contractual',\n",
       " 'Data Analyst - Contractual',\n",
       " 'ExcelHER-Data Analyst',\n",
       " 'Data Analyst',\n",
       " 'Data Analyst',\n",
       " 'Data Analyst - EdTech',\n",
       " 'Data Analyst - MySQL']"
      ]
     },
     "execution_count": 8,
     "metadata": {},
     "output_type": "execute_result"
    }
   ],
   "source": [
    "# Scraping Job Titles on the webpage\n",
    "\n",
    "job_titles = []\n",
    "\n",
    "title_tags = driver.find_elements(By.XPATH,'//a[@class=\"title ellipsis\"]')\n",
    "for i in title_tags[0:10]:\n",
    "    titles = i.text\n",
    "    job_titles.append(titles)\n",
    "    \n",
    "    \n",
    "job_titles"
   ]
  },
  {
   "cell_type": "code",
   "execution_count": 9,
   "id": "41b4bb9c",
   "metadata": {},
   "outputs": [
    {
     "data": {
      "text/plain": [
       "['Hybrid - Bangalore/Bengaluru, Kolkata, Hyderabad/Secunderabad, Pune, Chennai, Delhi / NCR, Mumbai (All Areas)',\n",
       " 'Bangalore/Bengaluru',\n",
       " 'Bangalore/Bengaluru',\n",
       " 'Bangalore/Bengaluru',\n",
       " 'Bangalore/Bengaluru',\n",
       " 'Bangalore/Bengaluru, Kolkata, Mumbai, New Delhi, Hyderabad/Secunderabad, Pune, Chennai',\n",
       " 'Bangalore/Bengaluru',\n",
       " 'Bangalore/Bengaluru',\n",
       " 'Bangalore/Bengaluru',\n",
       " 'Bangalore/Bengaluru']"
      ]
     },
     "execution_count": 9,
     "metadata": {},
     "output_type": "execute_result"
    }
   ],
   "source": [
    "# Scraping Job Location on the Webpage\n",
    "\n",
    "job_location = []\n",
    "\n",
    "location_tags = driver.find_elements(By.XPATH,'//span[@class=\"ellipsis fleft locWdth\"]')\n",
    "for i in location_tags[0:10]:\n",
    "    location = i.text\n",
    "    job_location.append(location)\n",
    "    \n",
    "job_location"
   ]
  },
  {
   "cell_type": "code",
   "execution_count": 10,
   "id": "ee9641ae",
   "metadata": {},
   "outputs": [
    {
     "data": {
      "text/plain": [
       "['Tech Mahindra',\n",
       " 'Ingersoll Rand',\n",
       " 'Unusual Hire',\n",
       " 'Search Advisers Services Guj',\n",
       " 'Search Advisers Services Guj',\n",
       " 'Volvo Financial Services',\n",
       " 'Clarivate',\n",
       " 'Novel Office',\n",
       " 'Talentstack',\n",
       " 'Talentstack']"
      ]
     },
     "execution_count": 10,
     "metadata": {},
     "output_type": "execute_result"
    }
   ],
   "source": [
    "# Scraping Company Name data from the webpage\n",
    "\n",
    "company_name = []\n",
    "\n",
    "company_tags = driver.find_elements(By.XPATH,'//a[@class=\"subTitle ellipsis fleft\"]')\n",
    "for i in company_tags[0:10]:\n",
    "    company = i.text\n",
    "    company_name.append(company)\n",
    "    \n",
    "company_name"
   ]
  },
  {
   "cell_type": "code",
   "execution_count": 11,
   "id": "cdad70eb",
   "metadata": {},
   "outputs": [
    {
     "data": {
      "text/plain": [
       "['6-11 Yrs',\n",
       " '3-6 Yrs',\n",
       " '1-4 Yrs',\n",
       " '2-3 Yrs',\n",
       " '2-3 Yrs',\n",
       " '3-5 Yrs',\n",
       " '2-4 Yrs',\n",
       " '0-2 Yrs',\n",
       " '2-6 Yrs',\n",
       " '2-7 Yrs']"
      ]
     },
     "execution_count": 11,
     "metadata": {},
     "output_type": "execute_result"
    }
   ],
   "source": [
    "# Scraping Experience Required data from the Webpage\n",
    "\n",
    "experience_required = []\n",
    "\n",
    "experience_tags = driver.find_elements(By.XPATH,'//span[@class=\"ellipsis fleft expwdth\"]')\n",
    "for i in experience_tags[0:10]:\n",
    "    experience = i.text\n",
    "    experience_required.append(experience)\n",
    "\n",
    "    \n",
    "    \n",
    "experience_required"
   ]
  },
  {
   "cell_type": "code",
   "execution_count": 12,
   "id": "0fdaa606",
   "metadata": {},
   "outputs": [
    {
     "name": "stdout",
     "output_type": "stream",
     "text": [
      "10 10 10 10\n"
     ]
    }
   ],
   "source": [
    "print(len(job_titles),len(job_location),len(company_name),len(experience_required))"
   ]
  },
  {
   "cell_type": "code",
   "execution_count": 13,
   "id": "480c1e4d",
   "metadata": {},
   "outputs": [
    {
     "data": {
      "text/html": [
       "<div>\n",
       "<style scoped>\n",
       "    .dataframe tbody tr th:only-of-type {\n",
       "        vertical-align: middle;\n",
       "    }\n",
       "\n",
       "    .dataframe tbody tr th {\n",
       "        vertical-align: top;\n",
       "    }\n",
       "\n",
       "    .dataframe thead th {\n",
       "        text-align: right;\n",
       "    }\n",
       "</style>\n",
       "<table border=\"1\" class=\"dataframe\">\n",
       "  <thead>\n",
       "    <tr style=\"text-align: right;\">\n",
       "      <th></th>\n",
       "      <th>Job Title</th>\n",
       "      <th>Job Location</th>\n",
       "      <th>Company Name</th>\n",
       "      <th>Experience Required</th>\n",
       "    </tr>\n",
       "  </thead>\n",
       "  <tbody>\n",
       "    <tr>\n",
       "      <th>0</th>\n",
       "      <td>Data Engineer/Data Analyst</td>\n",
       "      <td>Hybrid - Bangalore/Bengaluru, Kolkata, Hyderab...</td>\n",
       "      <td>Tech Mahindra</td>\n",
       "      <td>6-11 Yrs</td>\n",
       "    </tr>\n",
       "    <tr>\n",
       "      <th>1</th>\n",
       "      <td>Data Analyst</td>\n",
       "      <td>Bangalore/Bengaluru</td>\n",
       "      <td>Ingersoll Rand</td>\n",
       "      <td>3-6 Yrs</td>\n",
       "    </tr>\n",
       "    <tr>\n",
       "      <th>2</th>\n",
       "      <td>Data Analyst</td>\n",
       "      <td>Bangalore/Bengaluru</td>\n",
       "      <td>Unusual Hire</td>\n",
       "      <td>1-4 Yrs</td>\n",
       "    </tr>\n",
       "    <tr>\n",
       "      <th>3</th>\n",
       "      <td>Data Analyst - Contractual</td>\n",
       "      <td>Bangalore/Bengaluru</td>\n",
       "      <td>Search Advisers Services Guj</td>\n",
       "      <td>2-3 Yrs</td>\n",
       "    </tr>\n",
       "    <tr>\n",
       "      <th>4</th>\n",
       "      <td>Data Analyst - Contractual</td>\n",
       "      <td>Bangalore/Bengaluru</td>\n",
       "      <td>Search Advisers Services Guj</td>\n",
       "      <td>2-3 Yrs</td>\n",
       "    </tr>\n",
       "    <tr>\n",
       "      <th>5</th>\n",
       "      <td>ExcelHER-Data Analyst</td>\n",
       "      <td>Bangalore/Bengaluru, Kolkata, Mumbai, New Delh...</td>\n",
       "      <td>Volvo Financial Services</td>\n",
       "      <td>3-5 Yrs</td>\n",
       "    </tr>\n",
       "    <tr>\n",
       "      <th>6</th>\n",
       "      <td>Data Analyst</td>\n",
       "      <td>Bangalore/Bengaluru</td>\n",
       "      <td>Clarivate</td>\n",
       "      <td>2-4 Yrs</td>\n",
       "    </tr>\n",
       "    <tr>\n",
       "      <th>7</th>\n",
       "      <td>Data Analyst</td>\n",
       "      <td>Bangalore/Bengaluru</td>\n",
       "      <td>Novel Office</td>\n",
       "      <td>0-2 Yrs</td>\n",
       "    </tr>\n",
       "    <tr>\n",
       "      <th>8</th>\n",
       "      <td>Data Analyst - EdTech</td>\n",
       "      <td>Bangalore/Bengaluru</td>\n",
       "      <td>Talentstack</td>\n",
       "      <td>2-6 Yrs</td>\n",
       "    </tr>\n",
       "    <tr>\n",
       "      <th>9</th>\n",
       "      <td>Data Analyst - MySQL</td>\n",
       "      <td>Bangalore/Bengaluru</td>\n",
       "      <td>Talentstack</td>\n",
       "      <td>2-7 Yrs</td>\n",
       "    </tr>\n",
       "  </tbody>\n",
       "</table>\n",
       "</div>"
      ],
      "text/plain": [
       "                    Job Title  \\\n",
       "0  Data Engineer/Data Analyst   \n",
       "1                Data Analyst   \n",
       "2                Data Analyst   \n",
       "3  Data Analyst - Contractual   \n",
       "4  Data Analyst - Contractual   \n",
       "5       ExcelHER-Data Analyst   \n",
       "6                Data Analyst   \n",
       "7                Data Analyst   \n",
       "8       Data Analyst - EdTech   \n",
       "9        Data Analyst - MySQL   \n",
       "\n",
       "                                        Job Location  \\\n",
       "0  Hybrid - Bangalore/Bengaluru, Kolkata, Hyderab...   \n",
       "1                                Bangalore/Bengaluru   \n",
       "2                                Bangalore/Bengaluru   \n",
       "3                                Bangalore/Bengaluru   \n",
       "4                                Bangalore/Bengaluru   \n",
       "5  Bangalore/Bengaluru, Kolkata, Mumbai, New Delh...   \n",
       "6                                Bangalore/Bengaluru   \n",
       "7                                Bangalore/Bengaluru   \n",
       "8                                Bangalore/Bengaluru   \n",
       "9                                Bangalore/Bengaluru   \n",
       "\n",
       "                   Company Name Experience Required  \n",
       "0                 Tech Mahindra            6-11 Yrs  \n",
       "1                Ingersoll Rand             3-6 Yrs  \n",
       "2                  Unusual Hire             1-4 Yrs  \n",
       "3  Search Advisers Services Guj             2-3 Yrs  \n",
       "4  Search Advisers Services Guj             2-3 Yrs  \n",
       "5      Volvo Financial Services             3-5 Yrs  \n",
       "6                     Clarivate             2-4 Yrs  \n",
       "7                  Novel Office             0-2 Yrs  \n",
       "8                   Talentstack             2-6 Yrs  \n",
       "9                   Talentstack             2-7 Yrs  "
      ]
     },
     "execution_count": 13,
     "metadata": {},
     "output_type": "execute_result"
    }
   ],
   "source": [
    "df = pd.DataFrame({'Job Title':job_titles,\n",
    "                  'Job Location':job_location,\n",
    "                  'Company Name':company_name,\n",
    "                  'Experience Required': experience_required})\n",
    "df"
   ]
  },
  {
   "cell_type": "markdown",
   "id": "2d897fe9",
   "metadata": {},
   "source": [
    "## Q2. Write a python program to scrape data for “Data Scientist” Job position in “Bangalore” location. You  have to scrape the job-title, job-location, company_name. You have to scrape first 10 jobs data.\n"
   ]
  },
  {
   "cell_type": "code",
   "execution_count": 14,
   "id": "73fb39af",
   "metadata": {},
   "outputs": [],
   "source": [
    "# Getting on the Webiste Naukri.com\n",
    "\n",
    "driver.get('http://www.naukri.com/')"
   ]
  },
  {
   "cell_type": "code",
   "execution_count": 15,
   "id": "10d33c80",
   "metadata": {},
   "outputs": [],
   "source": [
    "# Typing Data Scientist in the search option of Skill\n",
    "\n",
    "designation = driver.find_element(By.XPATH,'/html/body/div[1]/div[6]/div/div/div[1]/div/div/div/div[1]/div/input')\n",
    "designation.send_keys('Data Scientist')"
   ]
  },
  {
   "cell_type": "code",
   "execution_count": 16,
   "id": "7bc63d83",
   "metadata": {},
   "outputs": [],
   "source": [
    "# Typing Bangalore in the seach option of Job Location\n",
    "\n",
    "location = driver.find_element(By.XPATH,'/html/body/div[1]/div[6]/div/div/div[5]/div/div/div/div[1]/div/input')\n",
    "location.send_keys('Bangalore')"
   ]
  },
  {
   "cell_type": "code",
   "execution_count": 17,
   "id": "1df7dc76",
   "metadata": {},
   "outputs": [],
   "source": [
    "# Clicking on Search button to get the above information\n",
    "\n",
    "search = driver.find_element(By.XPATH,'/html/body/div[1]/div[6]/div/div/div[6]')\n",
    "search.click()"
   ]
  },
  {
   "cell_type": "code",
   "execution_count": 19,
   "id": "399fd379",
   "metadata": {},
   "outputs": [
    {
     "data": {
      "text/plain": [
       "['Data Science Professional - IBM SPSS Statistics module',\n",
       " 'Data Science Specialist',\n",
       " 'Analystics & Modeling Specialist',\n",
       " 'Senior data scientist',\n",
       " 'Data Scientist_NLP',\n",
       " 'Data Scientist',\n",
       " 'Machine Learning (AI) Architect',\n",
       " 'Manager - Innovations Hub - Machine Learning',\n",
       " 'Data Scientist',\n",
       " 'Data Scientist']"
      ]
     },
     "execution_count": 19,
     "metadata": {},
     "output_type": "execute_result"
    }
   ],
   "source": [
    "# Scraping the Job Titles data from the Webpage\n",
    "\n",
    "job_titles = []\n",
    "\n",
    "titles_tags = driver.find_elements(By.XPATH,'//a[@class=\"title ellipsis\"]')\n",
    "for i in titles_tags[0:10]:\n",
    "    titles = i.text\n",
    "    job_titles.append(titles)\n",
    "    \n",
    "job_titles"
   ]
  },
  {
   "cell_type": "code",
   "execution_count": 20,
   "id": "ba38f2ba",
   "metadata": {},
   "outputs": [
    {
     "data": {
      "text/plain": [
       "['Bangalore/Bengaluru, Noida, Mumbai, Pune, Chennai',\n",
       " 'Bangalore/Bengaluru, Kolkata, Mumbai, Hyderabad/Secunderabad, Pune, Chennai',\n",
       " 'Bangalore/Bengaluru, Kolkata, Mumbai, Hyderabad/Secunderabad, Pune, Chennai',\n",
       " 'Bangalore/Bengaluru, Mumbai, Pune, Chennai, Gurgaon/Gurugram',\n",
       " 'Bangalore/Bengaluru, Mumbai, Pune, Chennai, Gurgaon/Gurugram',\n",
       " 'Bangalore/Bengaluru, Mumbai, Pune, Chennai, Gurgaon/Gurugram',\n",
       " 'Bangalore/Bengaluru, Kolkata, Mumbai, New Delhi, Hyderabad/Secunderabad, Pune, Chennai',\n",
       " 'Bangalore/Bengaluru, Mumbai, Hyderabad/Secunderabad',\n",
       " 'Bangalore/Bengaluru',\n",
       " 'Bangalore/Bengaluru']"
      ]
     },
     "execution_count": 20,
     "metadata": {},
     "output_type": "execute_result"
    }
   ],
   "source": [
    "# Scraping the Job Location data from the Webpage using XPATH\n",
    "\n",
    "job_location = []\n",
    "\n",
    "location_tags = driver.find_elements(By.XPATH,'//span[@class=\"ellipsis fleft locWdth\"]')\n",
    "for i in location_tags[0:10]:\n",
    "    location = i.text\n",
    "    job_location.append(location)\n",
    "    \n",
    "job_location"
   ]
  },
  {
   "cell_type": "code",
   "execution_count": 21,
   "id": "4b7ecd24",
   "metadata": {},
   "outputs": [
    {
     "data": {
      "text/plain": [
       "['Hexaware Technologies',\n",
       " 'Accenture',\n",
       " 'Accenture',\n",
       " 'Fractal Analytics',\n",
       " 'Fractal Analytics',\n",
       " 'Fractal Analytics',\n",
       " 'Persistent',\n",
       " 'PwC',\n",
       " 'IBM',\n",
       " 'IBM']"
      ]
     },
     "execution_count": 21,
     "metadata": {},
     "output_type": "execute_result"
    }
   ],
   "source": [
    "# Scraping Company Names from the webpage using XPATH\n",
    "\n",
    "company_name = []\n",
    "\n",
    "company_tags = driver.find_elements(By.XPATH,'//a[@class=\"subTitle ellipsis fleft\"]')\n",
    "for i in company_tags[0:10]:\n",
    "    company = i.text\n",
    "    company_name.append(company)\n",
    "    \n",
    "company_name"
   ]
  },
  {
   "cell_type": "code",
   "execution_count": 23,
   "id": "e5d7d9b8",
   "metadata": {},
   "outputs": [
    {
     "data": {
      "text/plain": [
       "['5-8 Yrs',\n",
       " '2-4 Yrs',\n",
       " '6-8 Yrs',\n",
       " '4-8 Yrs',\n",
       " '5-11 Yrs',\n",
       " '3-7 Yrs',\n",
       " '5-12 Yrs',\n",
       " '7-9 Yrs',\n",
       " '7-9 Yrs',\n",
       " '7-11 Yrs']"
      ]
     },
     "execution_count": 23,
     "metadata": {},
     "output_type": "execute_result"
    }
   ],
   "source": [
    "# Scraping Required Experienced Data From the Webpage\n",
    "\n",
    "experience_required = []\n",
    "\n",
    "experience_tags = driver.find_elements(By.XPATH,'//span[@class=\"ellipsis fleft expwdth\"]')\n",
    "for i in experience_tags[0:10]:\n",
    "    experience = i.text\n",
    "    experience_required.append(experience)\n",
    "    \n",
    "experience_required"
   ]
  },
  {
   "cell_type": "code",
   "execution_count": 24,
   "id": "44c625e4",
   "metadata": {},
   "outputs": [
    {
     "name": "stdout",
     "output_type": "stream",
     "text": [
      "10 10 10 10\n"
     ]
    }
   ],
   "source": [
    "# Getting the length of each list to execute DataFrame\n",
    "\n",
    "print(len(job_titles),len(job_location),len(company_name),len(experience_required))"
   ]
  },
  {
   "cell_type": "code",
   "execution_count": 26,
   "id": "d65f5a00",
   "metadata": {},
   "outputs": [
    {
     "data": {
      "text/html": [
       "<div>\n",
       "<style scoped>\n",
       "    .dataframe tbody tr th:only-of-type {\n",
       "        vertical-align: middle;\n",
       "    }\n",
       "\n",
       "    .dataframe tbody tr th {\n",
       "        vertical-align: top;\n",
       "    }\n",
       "\n",
       "    .dataframe thead th {\n",
       "        text-align: right;\n",
       "    }\n",
       "</style>\n",
       "<table border=\"1\" class=\"dataframe\">\n",
       "  <thead>\n",
       "    <tr style=\"text-align: right;\">\n",
       "      <th></th>\n",
       "      <th>Job Title</th>\n",
       "      <th>Job Location</th>\n",
       "      <th>Company Name</th>\n",
       "      <th>Experience Required</th>\n",
       "    </tr>\n",
       "  </thead>\n",
       "  <tbody>\n",
       "    <tr>\n",
       "      <th>0</th>\n",
       "      <td>Data Science Professional - IBM SPSS Statistic...</td>\n",
       "      <td>Bangalore/Bengaluru, Noida, Mumbai, Pune, Chennai</td>\n",
       "      <td>Hexaware Technologies</td>\n",
       "      <td>5-8 Yrs</td>\n",
       "    </tr>\n",
       "    <tr>\n",
       "      <th>1</th>\n",
       "      <td>Data Science Specialist</td>\n",
       "      <td>Bangalore/Bengaluru, Kolkata, Mumbai, Hyderaba...</td>\n",
       "      <td>Accenture</td>\n",
       "      <td>2-4 Yrs</td>\n",
       "    </tr>\n",
       "    <tr>\n",
       "      <th>2</th>\n",
       "      <td>Analystics &amp; Modeling Specialist</td>\n",
       "      <td>Bangalore/Bengaluru, Kolkata, Mumbai, Hyderaba...</td>\n",
       "      <td>Accenture</td>\n",
       "      <td>6-8 Yrs</td>\n",
       "    </tr>\n",
       "    <tr>\n",
       "      <th>3</th>\n",
       "      <td>Senior data scientist</td>\n",
       "      <td>Bangalore/Bengaluru, Mumbai, Pune, Chennai, Gu...</td>\n",
       "      <td>Fractal Analytics</td>\n",
       "      <td>4-8 Yrs</td>\n",
       "    </tr>\n",
       "    <tr>\n",
       "      <th>4</th>\n",
       "      <td>Data Scientist_NLP</td>\n",
       "      <td>Bangalore/Bengaluru, Mumbai, Pune, Chennai, Gu...</td>\n",
       "      <td>Fractal Analytics</td>\n",
       "      <td>5-11 Yrs</td>\n",
       "    </tr>\n",
       "    <tr>\n",
       "      <th>5</th>\n",
       "      <td>Data Scientist</td>\n",
       "      <td>Bangalore/Bengaluru, Mumbai, Pune, Chennai, Gu...</td>\n",
       "      <td>Fractal Analytics</td>\n",
       "      <td>3-7 Yrs</td>\n",
       "    </tr>\n",
       "    <tr>\n",
       "      <th>6</th>\n",
       "      <td>Machine Learning (AI) Architect</td>\n",
       "      <td>Bangalore/Bengaluru, Kolkata, Mumbai, New Delh...</td>\n",
       "      <td>Persistent</td>\n",
       "      <td>5-12 Yrs</td>\n",
       "    </tr>\n",
       "    <tr>\n",
       "      <th>7</th>\n",
       "      <td>Manager - Innovations Hub - Machine Learning</td>\n",
       "      <td>Bangalore/Bengaluru, Mumbai, Hyderabad/Secunde...</td>\n",
       "      <td>PwC</td>\n",
       "      <td>7-9 Yrs</td>\n",
       "    </tr>\n",
       "    <tr>\n",
       "      <th>8</th>\n",
       "      <td>Data Scientist</td>\n",
       "      <td>Bangalore/Bengaluru</td>\n",
       "      <td>IBM</td>\n",
       "      <td>7-9 Yrs</td>\n",
       "    </tr>\n",
       "    <tr>\n",
       "      <th>9</th>\n",
       "      <td>Data Scientist</td>\n",
       "      <td>Bangalore/Bengaluru</td>\n",
       "      <td>IBM</td>\n",
       "      <td>7-11 Yrs</td>\n",
       "    </tr>\n",
       "  </tbody>\n",
       "</table>\n",
       "</div>"
      ],
      "text/plain": [
       "                                           Job Title  \\\n",
       "0  Data Science Professional - IBM SPSS Statistic...   \n",
       "1                            Data Science Specialist   \n",
       "2                   Analystics & Modeling Specialist   \n",
       "3                              Senior data scientist   \n",
       "4                                 Data Scientist_NLP   \n",
       "5                                     Data Scientist   \n",
       "6                    Machine Learning (AI) Architect   \n",
       "7       Manager - Innovations Hub - Machine Learning   \n",
       "8                                     Data Scientist   \n",
       "9                                     Data Scientist   \n",
       "\n",
       "                                        Job Location           Company Name  \\\n",
       "0  Bangalore/Bengaluru, Noida, Mumbai, Pune, Chennai  Hexaware Technologies   \n",
       "1  Bangalore/Bengaluru, Kolkata, Mumbai, Hyderaba...              Accenture   \n",
       "2  Bangalore/Bengaluru, Kolkata, Mumbai, Hyderaba...              Accenture   \n",
       "3  Bangalore/Bengaluru, Mumbai, Pune, Chennai, Gu...      Fractal Analytics   \n",
       "4  Bangalore/Bengaluru, Mumbai, Pune, Chennai, Gu...      Fractal Analytics   \n",
       "5  Bangalore/Bengaluru, Mumbai, Pune, Chennai, Gu...      Fractal Analytics   \n",
       "6  Bangalore/Bengaluru, Kolkata, Mumbai, New Delh...             Persistent   \n",
       "7  Bangalore/Bengaluru, Mumbai, Hyderabad/Secunde...                    PwC   \n",
       "8                                Bangalore/Bengaluru                    IBM   \n",
       "9                                Bangalore/Bengaluru                    IBM   \n",
       "\n",
       "  Experience Required  \n",
       "0             5-8 Yrs  \n",
       "1             2-4 Yrs  \n",
       "2             6-8 Yrs  \n",
       "3             4-8 Yrs  \n",
       "4            5-11 Yrs  \n",
       "5             3-7 Yrs  \n",
       "6            5-12 Yrs  \n",
       "7             7-9 Yrs  \n",
       "8             7-9 Yrs  \n",
       "9            7-11 Yrs  "
      ]
     },
     "execution_count": 26,
     "metadata": {},
     "output_type": "execute_result"
    }
   ],
   "source": [
    "# Creating DataFrame\n",
    "\n",
    "df = pd.DataFrame({'Job Title':job_titles,\n",
    "                  'Job Location': job_location,\n",
    "                  'Company Name': company_name,\n",
    "                  'Experience Required': experience_required})\n",
    "\n",
    "df"
   ]
  },
  {
   "cell_type": "markdown",
   "id": "ddd7e2ba",
   "metadata": {},
   "source": [
    "## Q3 : In this question you have to scrape data using the filters available on the webpage as shown below:\n",
    "## You have to use the location and salary filter.\n",
    "## You have to scrape data for “Data Scientist” designation for first 10 job results. \n",
    "## You have to scrape the job-title, job-location, company name, experience required.\n",
    "## The location filter to be used is “Delhi/NCR”. The salary filter to be used is “3-6” lakhs"
   ]
  },
  {
   "cell_type": "code",
   "execution_count": 27,
   "id": "1dded93f",
   "metadata": {},
   "outputs": [],
   "source": [
    "# Searching Website Naukri.com\n",
    "\n",
    "driver.get('http://www.naukri.com/')\n"
   ]
  },
  {
   "cell_type": "code",
   "execution_count": 28,
   "id": "60f43b87",
   "metadata": {},
   "outputs": [],
   "source": [
    "# Typing Data Scientist on the search bar\n",
    "\n",
    "designation = driver.find_element(By.XPATH,'/html/body/div[1]/div[6]/div/div/div[1]/div/div/div/div[1]/div/input')\n",
    "designation.send_keys('Data Scientist')"
   ]
  },
  {
   "cell_type": "code",
   "execution_count": 29,
   "id": "10dff6a6",
   "metadata": {},
   "outputs": [],
   "source": [
    "# Searching for Data Scientist Role by Clicking Search Button\n",
    "\n",
    "search = driver.find_element(By.XPATH,'/html/body/div[1]/div[6]/div/div/div[6]')\n",
    "search.click()"
   ]
  },
  {
   "cell_type": "code",
   "execution_count": 31,
   "id": "563873ad",
   "metadata": {},
   "outputs": [],
   "source": [
    "# In Filter option selecting required filter\n",
    "\n",
    "location_check_box = driver.find_element(By.XPATH,'/html/body/div[1]/div[4]/div/div/section[1]/div[2]/div[5]/div[2]/div[2]/label/i')\n",
    "location_check_box.click()"
   ]
  },
  {
   "cell_type": "code",
   "execution_count": 32,
   "id": "574c9991",
   "metadata": {},
   "outputs": [],
   "source": [
    "# In Filter option selecting required salary checkbox\n",
    "\n",
    "salary_check_box = driver.find_element(By.XPATH,'/html/body/div[1]/div[4]/div/div/section[1]/div[2]/div[6]/div[2]/div[1]/label/i')\n",
    "salary_check_box.click()"
   ]
  },
  {
   "cell_type": "code",
   "execution_count": 33,
   "id": "363c7306",
   "metadata": {},
   "outputs": [
    {
     "data": {
      "text/plain": [
       "['Data Scientist',\n",
       " 'Junior Data Scientist',\n",
       " 'Data Scientist | Business Analyst Science | Data Analyst',\n",
       " 'Data Scientist | Business Analyst Science | Data Analyst',\n",
       " 'ASE/SE/SSE-Data Science',\n",
       " 'Modeler',\n",
       " 'Business Development Manager For Recruitment Firm || 5 Days || 40 LPA']"
      ]
     },
     "execution_count": 33,
     "metadata": {},
     "output_type": "execute_result"
    }
   ],
   "source": [
    "# Creating list of Job Titles\n",
    "\n",
    "job_titles = []\n",
    "\n",
    "title_tags = driver.find_elements(By.XPATH,'//a[@class=\"title ellipsis\"]')\n",
    "for i in title_tags:\n",
    "    title = i.text\n",
    "    job_titles.append(title)\n",
    "    \n",
    "job_titles"
   ]
  },
  {
   "cell_type": "code",
   "execution_count": 34,
   "id": "fe86e2aa",
   "metadata": {},
   "outputs": [
    {
     "data": {
      "text/plain": [
       "['Temp. WFH - Kochi/Cochin, Kolkata, Hyderabad/Secunderabad, Pune, Ahmedabad, Gurgaon/Gurugram, Chennai, Coimbatore, Bangalore/Bengaluru',\n",
       " 'Kolkata, Mumbai, New Delhi, Hyderabad/Secunderabad, Pune, Chennai, Bangalore/Bengaluru',\n",
       " 'Delhi / NCR, Bhubaneswar, Mumbai, Hyderabad/Secunderabad, Gurgaon/Gurugram, Bangalore/Bengaluru',\n",
       " 'Delhi / NCR, Rohtak, Dharuhera, Kanpur, Gurgaon/Gurugram, Bangalore/Bengaluru',\n",
       " 'Noida',\n",
       " 'Noida',\n",
       " 'Gurgaon/Gurugram']"
      ]
     },
     "execution_count": 34,
     "metadata": {},
     "output_type": "execute_result"
    }
   ],
   "source": [
    "# Creating List of Job Locations\n",
    "\n",
    "job_location = []\n",
    "\n",
    "location_tags = driver.find_elements(By.XPATH,'//span[@class=\"ellipsis fleft locWdth\"]')\n",
    "for i in location_tags:\n",
    "    location = i.text\n",
    "    job_location.append(location)\n",
    "    \n",
    "job_location"
   ]
  },
  {
   "cell_type": "code",
   "execution_count": 35,
   "id": "22b58c0e",
   "metadata": {},
   "outputs": [
    {
     "data": {
      "text/plain": [
       "['Cognizant',\n",
       " 'Analytos',\n",
       " 'Megara Infotech',\n",
       " 'Megara Infotech',\n",
       " 'Bold Technology Systems',\n",
       " 'Resource Access Management Solutions Pvt. Ltd.',\n",
       " 'Rimpac Hr Services Llp']"
      ]
     },
     "execution_count": 35,
     "metadata": {},
     "output_type": "execute_result"
    }
   ],
   "source": [
    "# Creating List of Company \n",
    "\n",
    "company_name = []\n",
    "\n",
    "company_tags = driver.find_elements(By.XPATH,'//a[@class=\"subTitle ellipsis fleft\"]')\n",
    "for i in company_tags:\n",
    "    company = i.text\n",
    "    company_name.append(company)\n",
    "    \n",
    "company_name"
   ]
  },
  {
   "cell_type": "code",
   "execution_count": 36,
   "id": "694c77f1",
   "metadata": {},
   "outputs": [
    {
     "data": {
      "text/plain": [
       "['6-10 Yrs', '0-2 Yrs', '0-1 Yrs', '0-1 Yrs', '2-7 Yrs', '3-7 Yrs', '1-6 Yrs']"
      ]
     },
     "execution_count": 36,
     "metadata": {},
     "output_type": "execute_result"
    }
   ],
   "source": [
    "# Creating List Of Experineced Required Data\n",
    "\n",
    "exp_req = []\n",
    "\n",
    "exp_tags = driver.find_elements(By.XPATH,'//span[@class=\"ellipsis fleft expwdth\"]')\n",
    "for i in exp_tags:\n",
    "    exp = i.text\n",
    "    exp_req.append(exp)\n",
    "    \n",
    "exp_req"
   ]
  },
  {
   "cell_type": "code",
   "execution_count": 37,
   "id": "336f718f",
   "metadata": {},
   "outputs": [
    {
     "name": "stdout",
     "output_type": "stream",
     "text": [
      "7 7 7 7\n"
     ]
    }
   ],
   "source": [
    "print(len(job_titles),len(job_location),len(company_name),len(exp_req))"
   ]
  },
  {
   "cell_type": "code",
   "execution_count": 38,
   "id": "7346a37c",
   "metadata": {},
   "outputs": [
    {
     "data": {
      "text/html": [
       "<div>\n",
       "<style scoped>\n",
       "    .dataframe tbody tr th:only-of-type {\n",
       "        vertical-align: middle;\n",
       "    }\n",
       "\n",
       "    .dataframe tbody tr th {\n",
       "        vertical-align: top;\n",
       "    }\n",
       "\n",
       "    .dataframe thead th {\n",
       "        text-align: right;\n",
       "    }\n",
       "</style>\n",
       "<table border=\"1\" class=\"dataframe\">\n",
       "  <thead>\n",
       "    <tr style=\"text-align: right;\">\n",
       "      <th></th>\n",
       "      <th>Job Title</th>\n",
       "      <th>Job Location</th>\n",
       "      <th>Company Name</th>\n",
       "      <th>Experience Required</th>\n",
       "    </tr>\n",
       "  </thead>\n",
       "  <tbody>\n",
       "    <tr>\n",
       "      <th>0</th>\n",
       "      <td>Data Scientist</td>\n",
       "      <td>Temp. WFH - Kochi/Cochin, Kolkata, Hyderabad/S...</td>\n",
       "      <td>Cognizant</td>\n",
       "      <td>6-10 Yrs</td>\n",
       "    </tr>\n",
       "    <tr>\n",
       "      <th>1</th>\n",
       "      <td>Junior Data Scientist</td>\n",
       "      <td>Kolkata, Mumbai, New Delhi, Hyderabad/Secunder...</td>\n",
       "      <td>Analytos</td>\n",
       "      <td>0-2 Yrs</td>\n",
       "    </tr>\n",
       "    <tr>\n",
       "      <th>2</th>\n",
       "      <td>Data Scientist | Business Analyst Science | Da...</td>\n",
       "      <td>Delhi / NCR, Bhubaneswar, Mumbai, Hyderabad/Se...</td>\n",
       "      <td>Megara Infotech</td>\n",
       "      <td>0-1 Yrs</td>\n",
       "    </tr>\n",
       "    <tr>\n",
       "      <th>3</th>\n",
       "      <td>Data Scientist | Business Analyst Science | Da...</td>\n",
       "      <td>Delhi / NCR, Rohtak, Dharuhera, Kanpur, Gurgao...</td>\n",
       "      <td>Megara Infotech</td>\n",
       "      <td>0-1 Yrs</td>\n",
       "    </tr>\n",
       "    <tr>\n",
       "      <th>4</th>\n",
       "      <td>ASE/SE/SSE-Data Science</td>\n",
       "      <td>Noida</td>\n",
       "      <td>Bold Technology Systems</td>\n",
       "      <td>2-7 Yrs</td>\n",
       "    </tr>\n",
       "    <tr>\n",
       "      <th>5</th>\n",
       "      <td>Modeler</td>\n",
       "      <td>Noida</td>\n",
       "      <td>Resource Access Management Solutions Pvt. Ltd.</td>\n",
       "      <td>3-7 Yrs</td>\n",
       "    </tr>\n",
       "    <tr>\n",
       "      <th>6</th>\n",
       "      <td>Business Development Manager For Recruitment F...</td>\n",
       "      <td>Gurgaon/Gurugram</td>\n",
       "      <td>Rimpac Hr Services Llp</td>\n",
       "      <td>1-6 Yrs</td>\n",
       "    </tr>\n",
       "  </tbody>\n",
       "</table>\n",
       "</div>"
      ],
      "text/plain": [
       "                                           Job Title  \\\n",
       "0                                     Data Scientist   \n",
       "1                              Junior Data Scientist   \n",
       "2  Data Scientist | Business Analyst Science | Da...   \n",
       "3  Data Scientist | Business Analyst Science | Da...   \n",
       "4                            ASE/SE/SSE-Data Science   \n",
       "5                                            Modeler   \n",
       "6  Business Development Manager For Recruitment F...   \n",
       "\n",
       "                                        Job Location  \\\n",
       "0  Temp. WFH - Kochi/Cochin, Kolkata, Hyderabad/S...   \n",
       "1  Kolkata, Mumbai, New Delhi, Hyderabad/Secunder...   \n",
       "2  Delhi / NCR, Bhubaneswar, Mumbai, Hyderabad/Se...   \n",
       "3  Delhi / NCR, Rohtak, Dharuhera, Kanpur, Gurgao...   \n",
       "4                                              Noida   \n",
       "5                                              Noida   \n",
       "6                                   Gurgaon/Gurugram   \n",
       "\n",
       "                                     Company Name Experience Required  \n",
       "0                                       Cognizant            6-10 Yrs  \n",
       "1                                        Analytos             0-2 Yrs  \n",
       "2                                 Megara Infotech             0-1 Yrs  \n",
       "3                                 Megara Infotech             0-1 Yrs  \n",
       "4                         Bold Technology Systems             2-7 Yrs  \n",
       "5  Resource Access Management Solutions Pvt. Ltd.             3-7 Yrs  \n",
       "6                          Rimpac Hr Services Llp             1-6 Yrs  "
      ]
     },
     "execution_count": 38,
     "metadata": {},
     "output_type": "execute_result"
    }
   ],
   "source": [
    "# Creating Dataframe\n",
    "\n",
    "df = pd.DataFrame({\"Job Title\": job_titles,\n",
    "                  \"Job Location\": job_location,\n",
    "                  \"Company Name\": company_name,\n",
    "                  \"Experience Required\": exp_req})\n",
    "df"
   ]
  },
  {
   "cell_type": "markdown",
   "id": "a576f80e",
   "metadata": {},
   "source": [
    "## Scrape data of first 100 sunglasses listings on flipkart.com. You have to scrape four attributes:\n",
    "## 1. Brand\n",
    "## 2. ProductDescription\n",
    "## 3. Price"
   ]
  },
  {
   "cell_type": "code",
   "execution_count": 39,
   "id": "52830edb",
   "metadata": {},
   "outputs": [],
   "source": [
    "driver.get('http://www.flipkart.com/')"
   ]
  },
  {
   "cell_type": "code",
   "execution_count": 40,
   "id": "ade1d136",
   "metadata": {},
   "outputs": [],
   "source": [
    "# Typing sunglasses on the search box\n",
    "\n",
    "product_type = driver.find_element(By.XPATH,'/html/body/div[1]/div/div[1]/div[1]/div[2]/div[2]/form/div/div/input')\n",
    "product_type.send_keys('sunglasses')"
   ]
  },
  {
   "cell_type": "code",
   "execution_count": 41,
   "id": "a28c04e1",
   "metadata": {},
   "outputs": [],
   "source": [
    "# Searching for sunglasses\n",
    "\n",
    "search = driver.find_element(By.XPATH,'/html/body/div[1]/div/div[1]/div[1]/div[2]/div[2]/form/div/button')\n",
    "search.click()"
   ]
  },
  {
   "cell_type": "code",
   "execution_count": 52,
   "id": "21e1c76d",
   "metadata": {},
   "outputs": [],
   "source": [
    "sun_brand = []\n",
    "sun_desc = []\n",
    "sun_price = []\n",
    "\n",
    "for page in range(0,3):    # Going through loop of 3 pages\n",
    "    brand = driver.find_elements(By.XPATH,'//div[@class=\"_2WkVRV\"]')  # Storing data of brand in list\n",
    "    for i in brand:\n",
    "        sun_brand.append(i.text)\n",
    "        \n",
    "#       \n",
    "    next_button = driver.find_element(By.XPATH,'//a[@class=\"_1LKTO3\"]') # Clicking on next button and looping same code to extract data\n",
    "    next_button.click()\n",
    "    time.sleep(3)\n",
    "    \n",
    "    \n",
    "time.sleep(3)\n",
    "\n",
    "for page2 in range(0,3):\n",
    "    desc = driver.find_elements(By.XPATH,'//a[@class=\"IRpwTa\" or @class=\"IRpwTa _2-ICcC\"] ')\n",
    "    for i in desc:\n",
    "        sun_desc.append(i.text)\n",
    "        \n",
    "    next_button = driver.find_element(By.XPATH,'//a[@class=\"_1LKTO3\"]')\n",
    "    next_button.click()\n",
    "    time.sleep(3)\n",
    "    \n",
    "time.sleep(3)\n",
    "\n",
    "for page3 in range(0,3):\n",
    "    price = driver.find_elements(By.XPATH,'//div[@class=\"_30jeq3\"]')\n",
    "    for i in price:\n",
    "        sun_price.append(i.text)\n",
    "        \n",
    "    next_button = driver.find_element(By.XPATH,'//a[@class=\"_1LKTO3\"]')\n",
    "    next_button.click()\n",
    "    time.sleep(3)\n",
    "    \n",
    "time.sleep(3)"
   ]
  },
  {
   "cell_type": "code",
   "execution_count": 53,
   "id": "013c5eea",
   "metadata": {},
   "outputs": [
    {
     "data": {
      "text/plain": [
       "120"
      ]
     },
     "execution_count": 53,
     "metadata": {},
     "output_type": "execute_result"
    }
   ],
   "source": [
    "len(sun_brand)"
   ]
  },
  {
   "cell_type": "code",
   "execution_count": 54,
   "id": "b43f96d7",
   "metadata": {},
   "outputs": [
    {
     "data": {
      "text/plain": [
       "120"
      ]
     },
     "execution_count": 54,
     "metadata": {},
     "output_type": "execute_result"
    }
   ],
   "source": [
    "len(sun_desc)"
   ]
  },
  {
   "cell_type": "code",
   "execution_count": 55,
   "id": "b9f88998",
   "metadata": {},
   "outputs": [
    {
     "data": {
      "text/plain": [
       "120"
      ]
     },
     "execution_count": 55,
     "metadata": {},
     "output_type": "execute_result"
    }
   ],
   "source": [
    "len(sun_price)"
   ]
  },
  {
   "cell_type": "code",
   "execution_count": 56,
   "id": "dc0a7d50",
   "metadata": {},
   "outputs": [
    {
     "data": {
      "text/html": [
       "<div>\n",
       "<style scoped>\n",
       "    .dataframe tbody tr th:only-of-type {\n",
       "        vertical-align: middle;\n",
       "    }\n",
       "\n",
       "    .dataframe tbody tr th {\n",
       "        vertical-align: top;\n",
       "    }\n",
       "\n",
       "    .dataframe thead th {\n",
       "        text-align: right;\n",
       "    }\n",
       "</style>\n",
       "<table border=\"1\" class=\"dataframe\">\n",
       "  <thead>\n",
       "    <tr style=\"text-align: right;\">\n",
       "      <th></th>\n",
       "      <th>Brand</th>\n",
       "      <th>Product Description</th>\n",
       "      <th>Price</th>\n",
       "    </tr>\n",
       "  </thead>\n",
       "  <tbody>\n",
       "    <tr>\n",
       "      <th>0</th>\n",
       "      <td>Resist</td>\n",
       "      <td>Mirrored, Night Vision, UV Protection, Riding ...</td>\n",
       "      <td>₹599</td>\n",
       "    </tr>\n",
       "    <tr>\n",
       "      <th>1</th>\n",
       "      <td>PROVOGUE</td>\n",
       "      <td>UV Protection Aviator Sunglasses (Free Size)</td>\n",
       "      <td>₹445</td>\n",
       "    </tr>\n",
       "    <tr>\n",
       "      <th>2</th>\n",
       "      <td>ROZIOR</td>\n",
       "      <td>UV Protection Wayfarer Sunglasses (59)</td>\n",
       "      <td>₹149</td>\n",
       "    </tr>\n",
       "    <tr>\n",
       "      <th>3</th>\n",
       "      <td>SRPM</td>\n",
       "      <td>Polarized Wayfarer Sunglasses (Free Size)</td>\n",
       "      <td>₹149</td>\n",
       "    </tr>\n",
       "    <tr>\n",
       "      <th>4</th>\n",
       "      <td>Elligator</td>\n",
       "      <td>UV Protection Wayfarer Sunglasses (Free Size)</td>\n",
       "      <td>₹268</td>\n",
       "    </tr>\n",
       "    <tr>\n",
       "      <th>...</th>\n",
       "      <td>...</td>\n",
       "      <td>...</td>\n",
       "      <td>...</td>\n",
       "    </tr>\n",
       "    <tr>\n",
       "      <th>95</th>\n",
       "      <td>VINCENT CHASE</td>\n",
       "      <td>Polarized, Riding Glasses, UV Protection Wayfa...</td>\n",
       "      <td>₹899</td>\n",
       "    </tr>\n",
       "    <tr>\n",
       "      <th>96</th>\n",
       "      <td>New Specs</td>\n",
       "      <td>Mirrored, UV Protection Wayfarer Sunglasses (F...</td>\n",
       "      <td>₹264</td>\n",
       "    </tr>\n",
       "    <tr>\n",
       "      <th>97</th>\n",
       "      <td>Elligator</td>\n",
       "      <td>Gradient, UV Protection Wayfarer Sunglasses (F...</td>\n",
       "      <td>₹149</td>\n",
       "    </tr>\n",
       "    <tr>\n",
       "      <th>98</th>\n",
       "      <td>Elligator</td>\n",
       "      <td>UV Protection, Mirrored Aviator Sunglasses (57)</td>\n",
       "      <td>₹149</td>\n",
       "    </tr>\n",
       "    <tr>\n",
       "      <th>99</th>\n",
       "      <td>VINCENT CHASE</td>\n",
       "      <td>UV Protection Wayfarer Sunglasses (Free Size)</td>\n",
       "      <td>₹979</td>\n",
       "    </tr>\n",
       "  </tbody>\n",
       "</table>\n",
       "<p>100 rows × 3 columns</p>\n",
       "</div>"
      ],
      "text/plain": [
       "            Brand                                Product Description Price\n",
       "0          Resist  Mirrored, Night Vision, UV Protection, Riding ...  ₹599\n",
       "1        PROVOGUE       UV Protection Aviator Sunglasses (Free Size)  ₹445\n",
       "2          ROZIOR             UV Protection Wayfarer Sunglasses (59)  ₹149\n",
       "3            SRPM          Polarized Wayfarer Sunglasses (Free Size)  ₹149\n",
       "4       Elligator      UV Protection Wayfarer Sunglasses (Free Size)  ₹268\n",
       "..            ...                                                ...   ...\n",
       "95  VINCENT CHASE  Polarized, Riding Glasses, UV Protection Wayfa...  ₹899\n",
       "96      New Specs  Mirrored, UV Protection Wayfarer Sunglasses (F...  ₹264\n",
       "97      Elligator  Gradient, UV Protection Wayfarer Sunglasses (F...  ₹149\n",
       "98      Elligator    UV Protection, Mirrored Aviator Sunglasses (57)  ₹149\n",
       "99  VINCENT CHASE      UV Protection Wayfarer Sunglasses (Free Size)  ₹979\n",
       "\n",
       "[100 rows x 3 columns]"
      ]
     },
     "execution_count": 56,
     "metadata": {},
     "output_type": "execute_result"
    }
   ],
   "source": [
    "df = pd.DataFrame({\"Brand\":sun_brand,\n",
    "                  \"Product Description\":sun_desc,\n",
    "                  \"Price\":sun_price})\n",
    "\n",
    "df.head(100)"
   ]
  },
  {
   "cell_type": "markdown",
   "id": "7acdc11b",
   "metadata": {},
   "source": [
    "## Scrape 100 reviews data from flipkart.com for iphone11 phone"
   ]
  },
  {
   "cell_type": "code",
   "execution_count": 57,
   "id": "e41778eb",
   "metadata": {},
   "outputs": [],
   "source": [
    "driver.get('https://www.flipkart.com/apple-iphone-11-black-64-gb/product-reviews/itm4e5041ba101fd?pid=MOBFWQ6BXGJCEYNY&lid=LSTMOBFWQ6BXGJCEYNYZXSHRJ&market')"
   ]
  },
  {
   "cell_type": "code",
   "execution_count": 58,
   "id": "722a9d5c",
   "metadata": {},
   "outputs": [],
   "source": [
    "ip_rating = []\n",
    "ip_review_sum = []\n",
    "ip_review_full = []\n",
    "\n",
    "\n",
    "for page in range(0,10):\n",
    "    rating = driver.find_elements(By.XPATH,'//div[@class=\"_3LWZlK _1BLPMq\"]')\n",
    "    review_sum = driver.find_elements(By.XPATH,'//p[@class=\"_2-N8zT\"]')\n",
    "    review_full = driver.find_elements(By.XPATH,'//div[@class=\"t-ZTKy\"]')\n",
    "    for i in rating:\n",
    "        \n",
    "        ip_rating.append(i.text)\n",
    "        \n",
    "    for j in review_sum:\n",
    "        ip_review_sum.append(j.text)\n",
    "        \n",
    "    for k in review_full:\n",
    "        ip_review_full.append(k.text)\n",
    "    \n",
    "    \n",
    "        \n",
    "    next_button = driver.find_element(By.XPATH,'//a[@class=\"_1LKTO3\"]')\n",
    "    next_button.click()\n",
    "    time.sleep(3)\n",
    "    \n",
    "    \n",
    "# for page in range(0,10):\n",
    "#     review_sum = driver.find_elements(By.XPATH,'//p[@class=\"_2-N8zT\"]')\n",
    "#     for i in review_sum:\n",
    "#         ip_review_sum.append(i.text)\n",
    "        \n",
    "#     next_button = driver.find_element(By.XPATH,'//a[@class=\"_1LKTO3\"]')\n",
    "#     next_button.click()\n",
    "#     time.sleep(3)\n",
    "    \n",
    "# for page in range(0,10):\n",
    "#     review_full = driver.find_elements(By.XPATH,'//div[@class=\"t-ZTKy\"]')\n",
    "#     for i in review_full:\n",
    "#         ip_review_full.append(i.text)\n",
    "        \n",
    "#     next_button = \n",
    "\n"
   ]
  },
  {
   "cell_type": "code",
   "execution_count": 59,
   "id": "f36c9fa9",
   "metadata": {},
   "outputs": [
    {
     "data": {
      "text/plain": [
       "100"
      ]
     },
     "execution_count": 59,
     "metadata": {},
     "output_type": "execute_result"
    }
   ],
   "source": [
    "len(ip_rating)"
   ]
  },
  {
   "cell_type": "code",
   "execution_count": 60,
   "id": "7b390460",
   "metadata": {},
   "outputs": [
    {
     "data": {
      "text/plain": [
       "100"
      ]
     },
     "execution_count": 60,
     "metadata": {},
     "output_type": "execute_result"
    }
   ],
   "source": [
    "len(ip_review_sum)"
   ]
  },
  {
   "cell_type": "code",
   "execution_count": 61,
   "id": "00b9346f",
   "metadata": {},
   "outputs": [
    {
     "data": {
      "text/plain": [
       "100"
      ]
     },
     "execution_count": 61,
     "metadata": {},
     "output_type": "execute_result"
    }
   ],
   "source": [
    "len(ip_review_full)"
   ]
  },
  {
   "cell_type": "code",
   "execution_count": 62,
   "id": "1fafa9e3",
   "metadata": {},
   "outputs": [
    {
     "data": {
      "text/html": [
       "<div>\n",
       "<style scoped>\n",
       "    .dataframe tbody tr th:only-of-type {\n",
       "        vertical-align: middle;\n",
       "    }\n",
       "\n",
       "    .dataframe tbody tr th {\n",
       "        vertical-align: top;\n",
       "    }\n",
       "\n",
       "    .dataframe thead th {\n",
       "        text-align: right;\n",
       "    }\n",
       "</style>\n",
       "<table border=\"1\" class=\"dataframe\">\n",
       "  <thead>\n",
       "    <tr style=\"text-align: right;\">\n",
       "      <th></th>\n",
       "      <th>Rating</th>\n",
       "      <th>Review Summary</th>\n",
       "      <th>Full Review</th>\n",
       "    </tr>\n",
       "  </thead>\n",
       "  <tbody>\n",
       "    <tr>\n",
       "      <th>0</th>\n",
       "      <td>5</td>\n",
       "      <td>Simply awesome</td>\n",
       "      <td>Really satisfied with the Product I received.....</td>\n",
       "    </tr>\n",
       "    <tr>\n",
       "      <th>1</th>\n",
       "      <td>5</td>\n",
       "      <td>Perfect product!</td>\n",
       "      <td>Amazing phone with great cameras and better ba...</td>\n",
       "    </tr>\n",
       "    <tr>\n",
       "      <th>2</th>\n",
       "      <td>5</td>\n",
       "      <td>Best in the market!</td>\n",
       "      <td>Great iPhone very snappy experience as apple k...</td>\n",
       "    </tr>\n",
       "    <tr>\n",
       "      <th>3</th>\n",
       "      <td>4</td>\n",
       "      <td>Value-for-money</td>\n",
       "      <td>I'm Really happy with the product\\nDelivery wa...</td>\n",
       "    </tr>\n",
       "    <tr>\n",
       "      <th>4</th>\n",
       "      <td>5</td>\n",
       "      <td>Highly recommended</td>\n",
       "      <td>It's my first time to use iOS phone and I am l...</td>\n",
       "    </tr>\n",
       "    <tr>\n",
       "      <th>...</th>\n",
       "      <td>...</td>\n",
       "      <td>...</td>\n",
       "      <td>...</td>\n",
       "    </tr>\n",
       "    <tr>\n",
       "      <th>95</th>\n",
       "      <td>5</td>\n",
       "      <td>Worth every penny</td>\n",
       "      <td>Previously I was using one plus 3t it was a gr...</td>\n",
       "    </tr>\n",
       "    <tr>\n",
       "      <th>96</th>\n",
       "      <td>4</td>\n",
       "      <td>Pretty good</td>\n",
       "      <td>I was using Iphone 6s and also Oneplus 6t. Bot...</td>\n",
       "    </tr>\n",
       "    <tr>\n",
       "      <th>97</th>\n",
       "      <td>5</td>\n",
       "      <td>Perfect product!</td>\n",
       "      <td>Value for money\\n5 star rating\\nExcellent came...</td>\n",
       "    </tr>\n",
       "    <tr>\n",
       "      <th>98</th>\n",
       "      <td>5</td>\n",
       "      <td>Highly recommended</td>\n",
       "      <td>What a camera .....just awesome ..you can feel...</td>\n",
       "    </tr>\n",
       "    <tr>\n",
       "      <th>99</th>\n",
       "      <td>5</td>\n",
       "      <td>Great product</td>\n",
       "      <td>Amazing Powerful and Durable Gadget.\\n\\nI’m am...</td>\n",
       "    </tr>\n",
       "  </tbody>\n",
       "</table>\n",
       "<p>100 rows × 3 columns</p>\n",
       "</div>"
      ],
      "text/plain": [
       "   Rating       Review Summary  \\\n",
       "0       5       Simply awesome   \n",
       "1       5     Perfect product!   \n",
       "2       5  Best in the market!   \n",
       "3       4      Value-for-money   \n",
       "4       5   Highly recommended   \n",
       "..    ...                  ...   \n",
       "95      5    Worth every penny   \n",
       "96      4          Pretty good   \n",
       "97      5     Perfect product!   \n",
       "98      5   Highly recommended   \n",
       "99      5        Great product   \n",
       "\n",
       "                                          Full Review  \n",
       "0   Really satisfied with the Product I received.....  \n",
       "1   Amazing phone with great cameras and better ba...  \n",
       "2   Great iPhone very snappy experience as apple k...  \n",
       "3   I'm Really happy with the product\\nDelivery wa...  \n",
       "4   It's my first time to use iOS phone and I am l...  \n",
       "..                                                ...  \n",
       "95  Previously I was using one plus 3t it was a gr...  \n",
       "96  I was using Iphone 6s and also Oneplus 6t. Bot...  \n",
       "97  Value for money\\n5 star rating\\nExcellent came...  \n",
       "98  What a camera .....just awesome ..you can feel...  \n",
       "99  Amazing Powerful and Durable Gadget.\\n\\nI’m am...  \n",
       "\n",
       "[100 rows x 3 columns]"
      ]
     },
     "execution_count": 62,
     "metadata": {},
     "output_type": "execute_result"
    }
   ],
   "source": [
    "df = pd.DataFrame({\"Rating\":ip_rating,\n",
    "                  \"Review Summary\":ip_review_sum,\n",
    "                  \"Full Review\":ip_review_full})\n",
    "\n",
    "df"
   ]
  },
  {
   "cell_type": "markdown",
   "id": "abcee083",
   "metadata": {},
   "source": [
    "## Q6 : Scrape data for first 100 sneakers you find when you visit flipkart.com and search for “sneakers” in the search field.\n",
    "## You have to scrape 3 attributes of each sneaker:1. Brand 2. ProductDescription 3. Price"
   ]
  },
  {
   "cell_type": "code",
   "execution_count": 63,
   "id": "e008f4d4",
   "metadata": {},
   "outputs": [],
   "source": [
    "driver.get('http://www.flipkart.com/')"
   ]
  },
  {
   "cell_type": "code",
   "execution_count": 64,
   "id": "c54b9c87",
   "metadata": {},
   "outputs": [],
   "source": [
    "product_type = driver.find_element(By.XPATH,'/html/body/div/div/div[1]/div[1]/div[2]/div[2]/form/div/div/input')\n",
    "product_type.send_keys('sneakers')"
   ]
  },
  {
   "cell_type": "code",
   "execution_count": 65,
   "id": "60a52ccf",
   "metadata": {},
   "outputs": [],
   "source": [
    "search = driver.find_element(By.XPATH,'/html/body/div/div/div[1]/div[1]/div[2]/div[2]/form/div/button')\n",
    "search.click()"
   ]
  },
  {
   "cell_type": "code",
   "execution_count": 69,
   "id": "f92965c7",
   "metadata": {},
   "outputs": [],
   "source": [
    "s_brand= []\n",
    "s_desc = []\n",
    "s_price = []\n",
    "\n",
    "\n",
    "for page in range(0,3):\n",
    "    brand = driver.find_elements(By.XPATH,'//div[@class=\"_2WkVRV\"]')\n",
    "    desc = driver.find_elements(By.XPATH,'//a[@class=\"IRpwTa\" or @class=\"IRpwTa _2-ICcC\" ]')\n",
    "    price = driver.find_elements(By.XPATH,'//div[@class=\"_30jeq3\"]')\n",
    "    for i in brand:\n",
    "        s_brand.append(i.text)\n",
    "        \n",
    "    for j in desc:\n",
    "        s_desc.append(j.text)\n",
    "        \n",
    "    for k in price:\n",
    "        s_price.append(k.text)\n",
    "        \n",
    "    \n",
    "    next_button = driver.find_element(By.XPATH,'//a[@class=\"_1LKTO3\"]')\n",
    "    next_button.click()\n",
    "    time.sleep(3)\n",
    "        \n",
    "        \n",
    "\n",
    "    "
   ]
  },
  {
   "cell_type": "code",
   "execution_count": 70,
   "id": "c91d34f9",
   "metadata": {},
   "outputs": [
    {
     "data": {
      "text/plain": [
       "120"
      ]
     },
     "execution_count": 70,
     "metadata": {},
     "output_type": "execute_result"
    }
   ],
   "source": [
    "len(s_brand)"
   ]
  },
  {
   "cell_type": "code",
   "execution_count": 71,
   "id": "6591711a",
   "metadata": {},
   "outputs": [
    {
     "data": {
      "text/plain": [
       "120"
      ]
     },
     "execution_count": 71,
     "metadata": {},
     "output_type": "execute_result"
    }
   ],
   "source": [
    "len(s_desc)"
   ]
  },
  {
   "cell_type": "code",
   "execution_count": 72,
   "id": "182cc415",
   "metadata": {},
   "outputs": [
    {
     "data": {
      "text/plain": [
       "120"
      ]
     },
     "execution_count": 72,
     "metadata": {},
     "output_type": "execute_result"
    }
   ],
   "source": [
    "len(s_price)"
   ]
  },
  {
   "cell_type": "code",
   "execution_count": 74,
   "id": "855b9de7",
   "metadata": {},
   "outputs": [
    {
     "data": {
      "text/html": [
       "<div>\n",
       "<style scoped>\n",
       "    .dataframe tbody tr th:only-of-type {\n",
       "        vertical-align: middle;\n",
       "    }\n",
       "\n",
       "    .dataframe tbody tr th {\n",
       "        vertical-align: top;\n",
       "    }\n",
       "\n",
       "    .dataframe thead th {\n",
       "        text-align: right;\n",
       "    }\n",
       "</style>\n",
       "<table border=\"1\" class=\"dataframe\">\n",
       "  <thead>\n",
       "    <tr style=\"text-align: right;\">\n",
       "      <th></th>\n",
       "      <th>Brand</th>\n",
       "      <th>Product Description</th>\n",
       "      <th>Product Price</th>\n",
       "    </tr>\n",
       "  </thead>\n",
       "  <tbody>\n",
       "    <tr>\n",
       "      <th>0</th>\n",
       "      <td>BRUTON</td>\n",
       "      <td>Modern Trendy Sneakers Shoes Sneakers For Men</td>\n",
       "      <td>₹299</td>\n",
       "    </tr>\n",
       "    <tr>\n",
       "      <th>1</th>\n",
       "      <td>Rowlans</td>\n",
       "      <td>comfortable,durable,sport shoe,snerakers,walki...</td>\n",
       "      <td>₹551</td>\n",
       "    </tr>\n",
       "    <tr>\n",
       "      <th>2</th>\n",
       "      <td>aadi</td>\n",
       "      <td>Lightweight,Comfort,Summer,Trendy,Walking,Outd...</td>\n",
       "      <td>₹299</td>\n",
       "    </tr>\n",
       "    <tr>\n",
       "      <th>3</th>\n",
       "      <td>aadi</td>\n",
       "      <td>Synthetic Leather |Lightweight|Comfort|Summer|...</td>\n",
       "      <td>₹399</td>\n",
       "    </tr>\n",
       "    <tr>\n",
       "      <th>4</th>\n",
       "      <td>SFR</td>\n",
       "      <td>2006 Trenddy Fashion Sporty Casuals Sneakers R...</td>\n",
       "      <td>₹299</td>\n",
       "    </tr>\n",
       "    <tr>\n",
       "      <th>...</th>\n",
       "      <td>...</td>\n",
       "      <td>...</td>\n",
       "      <td>...</td>\n",
       "    </tr>\n",
       "    <tr>\n",
       "      <th>95</th>\n",
       "      <td>BIRDE</td>\n",
       "      <td>Premium Sports Shoes For Men Pack Of 2 Sneaker...</td>\n",
       "      <td>₹649</td>\n",
       "    </tr>\n",
       "    <tr>\n",
       "      <th>96</th>\n",
       "      <td>MACAU</td>\n",
       "      <td>Sneakers For Men</td>\n",
       "      <td>₹579</td>\n",
       "    </tr>\n",
       "    <tr>\n",
       "      <th>97</th>\n",
       "      <td>'Trends'</td>\n",
       "      <td>Casual sneaker fashionable shoes for men Sneak...</td>\n",
       "      <td>₹399</td>\n",
       "    </tr>\n",
       "    <tr>\n",
       "      <th>98</th>\n",
       "      <td>Magnolia</td>\n",
       "      <td>Modern Trendy Sneakers boot Sneakers Sneakers ...</td>\n",
       "      <td>₹399</td>\n",
       "    </tr>\n",
       "    <tr>\n",
       "      <th>99</th>\n",
       "      <td>World Wear Footwear</td>\n",
       "      <td>Latest Collection-1215 Stylish Casual Sports S...</td>\n",
       "      <td>₹299</td>\n",
       "    </tr>\n",
       "  </tbody>\n",
       "</table>\n",
       "<p>100 rows × 3 columns</p>\n",
       "</div>"
      ],
      "text/plain": [
       "                  Brand                                Product Description  \\\n",
       "0                BRUTON      Modern Trendy Sneakers Shoes Sneakers For Men   \n",
       "1               Rowlans  comfortable,durable,sport shoe,snerakers,walki...   \n",
       "2                  aadi  Lightweight,Comfort,Summer,Trendy,Walking,Outd...   \n",
       "3                  aadi  Synthetic Leather |Lightweight|Comfort|Summer|...   \n",
       "4                   SFR  2006 Trenddy Fashion Sporty Casuals Sneakers R...   \n",
       "..                  ...                                                ...   \n",
       "95                BIRDE  Premium Sports Shoes For Men Pack Of 2 Sneaker...   \n",
       "96                MACAU                                   Sneakers For Men   \n",
       "97             'Trends'  Casual sneaker fashionable shoes for men Sneak...   \n",
       "98             Magnolia  Modern Trendy Sneakers boot Sneakers Sneakers ...   \n",
       "99  World Wear Footwear  Latest Collection-1215 Stylish Casual Sports S...   \n",
       "\n",
       "   Product Price  \n",
       "0           ₹299  \n",
       "1           ₹551  \n",
       "2           ₹299  \n",
       "3           ₹399  \n",
       "4           ₹299  \n",
       "..           ...  \n",
       "95          ₹649  \n",
       "96          ₹579  \n",
       "97          ₹399  \n",
       "98          ₹399  \n",
       "99          ₹299  \n",
       "\n",
       "[100 rows x 3 columns]"
      ]
     },
     "execution_count": 74,
     "metadata": {},
     "output_type": "execute_result"
    }
   ],
   "source": [
    "df = pd.DataFrame({\"Brand\": s_brand,\n",
    "                  \"Product Description\":s_desc,\n",
    "                  \"Product Price\": s_price})\n",
    "df.head(100)"
   ]
  },
  {
   "cell_type": "markdown",
   "id": "0e933e2d",
   "metadata": {},
   "source": [
    "## Q7: Go to webpage https://www.amazon.in/ Enter “Laptop” in the search field and then click the search icon. Then  set CPU Type filter to “Intel Core i7” \n",
    "## After setting the filters scrape first 10 laptops data. You have to scrape 3 attributes for each laptop: 1. Title 2. Ratings 3. Price\n"
   ]
  },
  {
   "cell_type": "code",
   "execution_count": 84,
   "id": "53363d0c",
   "metadata": {},
   "outputs": [],
   "source": [
    "driver.get('https://www.amazon.in/')"
   ]
  },
  {
   "cell_type": "code",
   "execution_count": 87,
   "id": "bc566270",
   "metadata": {},
   "outputs": [],
   "source": [
    "product = driver.find_element(By.XPATH,'/html/body/div[1]/header/div/div[1]/div[2]/div/form/div[2]/div[1]/input')\n",
    "product.send_keys('Laptop')"
   ]
  },
  {
   "cell_type": "code",
   "execution_count": 88,
   "id": "ce538930",
   "metadata": {},
   "outputs": [],
   "source": [
    "search = driver.find_element(By.XPATH,'/html/body/div[1]/header/div/div[1]/div[2]/div/form/div[3]/div/span/input')\n",
    "search.click()"
   ]
  },
  {
   "cell_type": "code",
   "execution_count": 89,
   "id": "5b4ea057",
   "metadata": {},
   "outputs": [],
   "source": [
    "i7_pro = driver.find_element(By.XPATH,'/html/body/div[1]/div[2]/div[1]/div[2]/div/div[3]/span/div[1]/div/div/div[6]/ul[7]/li[9]/span/a/div/label/i')\n",
    "i7_pro.click()"
   ]
  },
  {
   "cell_type": "code",
   "execution_count": 90,
   "id": "28e1daf1",
   "metadata": {},
   "outputs": [],
   "source": [
    "laptop_title = []\n",
    "laptop_rating = []\n",
    "laptop_price = []\n",
    "\n",
    "title = driver.find_elements(By.XPATH,'//span[@class=\"a-size-medium a-color-base a-text-normal\"]')\n",
    "rating = driver.find_elements(By.XPATH,'//span[@class=\"a-size-base\"]')\n",
    "price = driver.find_elements(By.XPATH,'//span[@class=\"a-price-whole\"]')\n",
    "\n",
    "for i in title[0:10]:\n",
    "    laptop_title.append(i.text)\n",
    "    \n",
    "for j in rating[0:10]:\n",
    "    laptop_rating.append(j.text)\n",
    "    \n",
    "for k in price[0:10]:\n",
    "    laptop_price.append(k.text)\n",
    "    \n",
    "    \n",
    "    "
   ]
  },
  {
   "cell_type": "code",
   "execution_count": 93,
   "id": "be1a34e9",
   "metadata": {},
   "outputs": [
    {
     "data": {
      "text/plain": [
       "10"
      ]
     },
     "execution_count": 93,
     "metadata": {},
     "output_type": "execute_result"
    }
   ],
   "source": [
    "len(laptop_rating)"
   ]
  },
  {
   "cell_type": "code",
   "execution_count": 94,
   "id": "160f778e",
   "metadata": {},
   "outputs": [
    {
     "data": {
      "text/html": [
       "<div>\n",
       "<style scoped>\n",
       "    .dataframe tbody tr th:only-of-type {\n",
       "        vertical-align: middle;\n",
       "    }\n",
       "\n",
       "    .dataframe tbody tr th {\n",
       "        vertical-align: top;\n",
       "    }\n",
       "\n",
       "    .dataframe thead th {\n",
       "        text-align: right;\n",
       "    }\n",
       "</style>\n",
       "<table border=\"1\" class=\"dataframe\">\n",
       "  <thead>\n",
       "    <tr style=\"text-align: right;\">\n",
       "      <th></th>\n",
       "      <th>Name of Laptop</th>\n",
       "      <th>Rating</th>\n",
       "      <th>Price</th>\n",
       "    </tr>\n",
       "  </thead>\n",
       "  <tbody>\n",
       "    <tr>\n",
       "      <th>0</th>\n",
       "      <td>Samsung Galaxy Book2 (NP750) Intel 12th Gen co...</td>\n",
       "      <td>4.0</td>\n",
       "      <td>79,990</td>\n",
       "    </tr>\n",
       "    <tr>\n",
       "      <th>1</th>\n",
       "      <td>(Renewed) HP ELITEBOOK 840 G5 (Core i7 8th GEN...</td>\n",
       "      <td>5.0</td>\n",
       "      <td>31,490</td>\n",
       "    </tr>\n",
       "    <tr>\n",
       "      <th>2</th>\n",
       "      <td>ASUS ProArt Studiobook 16 OLED (2022) Dial, 16...</td>\n",
       "      <td>4.1</td>\n",
       "      <td>2,38,120</td>\n",
       "    </tr>\n",
       "    <tr>\n",
       "      <th>3</th>\n",
       "      <td>LG Gram16 Intel EVO-[12th Gen Core i7/Win11/16...</td>\n",
       "      <td>4.4</td>\n",
       "      <td>82,990</td>\n",
       "    </tr>\n",
       "    <tr>\n",
       "      <th>4</th>\n",
       "      <td>ASUS TUF Gaming F15 (2022), 15.6\"(39.62 cms) F...</td>\n",
       "      <td>2.0</td>\n",
       "      <td>94,990</td>\n",
       "    </tr>\n",
       "    <tr>\n",
       "      <th>5</th>\n",
       "      <td>(Renewed) HP ELITEBOOK 840 G5 (Core i7 8th GEN...</td>\n",
       "      <td>3.0</td>\n",
       "      <td>33,999</td>\n",
       "    </tr>\n",
       "    <tr>\n",
       "      <th>6</th>\n",
       "      <td>(Renewed) HP 840g3 Elitebook 14 Inch Screen La...</td>\n",
       "      <td>4.0</td>\n",
       "      <td>31,592</td>\n",
       "    </tr>\n",
       "    <tr>\n",
       "      <th>7</th>\n",
       "      <td>ASUS Vivobook S15 OLED 2022, 15.6\" 39.62 cms F...</td>\n",
       "      <td>4.1</td>\n",
       "      <td>84,990</td>\n",
       "    </tr>\n",
       "    <tr>\n",
       "      <th>8</th>\n",
       "      <td>ASUS TUF Gaming F15 (2022), 15.6\" (39.62 cms) ...</td>\n",
       "      <td>4.3</td>\n",
       "      <td>94,990</td>\n",
       "    </tr>\n",
       "    <tr>\n",
       "      <th>9</th>\n",
       "      <td>Fujitsu UH-X 11th Gen Intel Core i7 13.3\" FHD ...</td>\n",
       "      <td>4.2</td>\n",
       "      <td>89,990</td>\n",
       "    </tr>\n",
       "  </tbody>\n",
       "</table>\n",
       "</div>"
      ],
      "text/plain": [
       "                                      Name of Laptop Rating     Price\n",
       "0  Samsung Galaxy Book2 (NP750) Intel 12th Gen co...    4.0    79,990\n",
       "1  (Renewed) HP ELITEBOOK 840 G5 (Core i7 8th GEN...    5.0    31,490\n",
       "2  ASUS ProArt Studiobook 16 OLED (2022) Dial, 16...    4.1  2,38,120\n",
       "3  LG Gram16 Intel EVO-[12th Gen Core i7/Win11/16...    4.4    82,990\n",
       "4  ASUS TUF Gaming F15 (2022), 15.6\"(39.62 cms) F...    2.0    94,990\n",
       "5  (Renewed) HP ELITEBOOK 840 G5 (Core i7 8th GEN...    3.0    33,999\n",
       "6  (Renewed) HP 840g3 Elitebook 14 Inch Screen La...    4.0    31,592\n",
       "7  ASUS Vivobook S15 OLED 2022, 15.6\" 39.62 cms F...    4.1    84,990\n",
       "8  ASUS TUF Gaming F15 (2022), 15.6\" (39.62 cms) ...    4.3    94,990\n",
       "9  Fujitsu UH-X 11th Gen Intel Core i7 13.3\" FHD ...    4.2    89,990"
      ]
     },
     "execution_count": 94,
     "metadata": {},
     "output_type": "execute_result"
    }
   ],
   "source": [
    "df = pd.DataFrame({\"Name of Laptop\":laptop_title,\n",
    "                  \"Rating\": laptop_rating,\n",
    "                  \"Price\":laptop_price})\n",
    "df"
   ]
  },
  {
   "cell_type": "markdown",
   "id": "dce27f3a",
   "metadata": {},
   "source": [
    "## Q8: Write a python program to scrape data for Top 1000 Quotes of All Time."
   ]
  },
  {
   "cell_type": "code",
   "execution_count": 95,
   "id": "008d71fa",
   "metadata": {},
   "outputs": [],
   "source": [
    "driver.get('http://www.azquotes.com/')"
   ]
  },
  {
   "cell_type": "code",
   "execution_count": 99,
   "id": "2bd79661",
   "metadata": {},
   "outputs": [],
   "source": [
    "quote_tab = driver.find_element(By.XPATH,'/html/body/div[1]/div[1]/div[1]/div/div[3]/ul/li[5]/a')\n",
    "quote_tab.click()"
   ]
  },
  {
   "cell_type": "code",
   "execution_count": 100,
   "id": "571cff56",
   "metadata": {},
   "outputs": [],
   "source": [
    "top_quotes = []\n",
    "top_authors = []\n",
    "type_of_quotes = []\n",
    "\n",
    "for page in range(0,10):\n",
    "    quotes = driver.find_elements(By.XPATH,'//a[@class=\"wrap-block\" or @class=\"title\"]')\n",
    "    authors = driver.find_elements(By.XPATH,'//div[@class=\"author\"]')\n",
    "    type_of = driver.find_elements(By.XPATH,'//div[@class=\"tags\"]')\n",
    "    \n",
    "    \n",
    "    for i in quotes:\n",
    "        top_quotes.append(i.text)\n",
    "        \n",
    "    for j in authors:\n",
    "        top_authors.append(j.text)\n",
    "        \n",
    "    for k in type_of:\n",
    "        type_of_quotes.append(k.text)\n",
    "        \n",
    "        \n",
    "        \n",
    "    next_button = driver.find_element(By.XPATH,'//li[@class=\"next\"]')\n",
    "    next_button.click()\n",
    "    time.sleep(3)\n",
    "    \n",
    "    \n",
    "    \n"
   ]
  },
  {
   "cell_type": "code",
   "execution_count": 101,
   "id": "1e96e788",
   "metadata": {},
   "outputs": [
    {
     "data": {
      "text/plain": [
       "1000"
      ]
     },
     "execution_count": 101,
     "metadata": {},
     "output_type": "execute_result"
    }
   ],
   "source": [
    "len(top_quotes)"
   ]
  },
  {
   "cell_type": "code",
   "execution_count": 102,
   "id": "80c7043a",
   "metadata": {},
   "outputs": [
    {
     "data": {
      "text/plain": [
       "1000"
      ]
     },
     "execution_count": 102,
     "metadata": {},
     "output_type": "execute_result"
    }
   ],
   "source": [
    "len(top_authors)"
   ]
  },
  {
   "cell_type": "code",
   "execution_count": 103,
   "id": "d5c56544",
   "metadata": {},
   "outputs": [
    {
     "data": {
      "text/plain": [
       "1000"
      ]
     },
     "execution_count": 103,
     "metadata": {},
     "output_type": "execute_result"
    }
   ],
   "source": [
    "len(type_of_quotes)"
   ]
  },
  {
   "cell_type": "code",
   "execution_count": 104,
   "id": "36ae5b2e",
   "metadata": {},
   "outputs": [
    {
     "data": {
      "text/html": [
       "<div>\n",
       "<style scoped>\n",
       "    .dataframe tbody tr th:only-of-type {\n",
       "        vertical-align: middle;\n",
       "    }\n",
       "\n",
       "    .dataframe tbody tr th {\n",
       "        vertical-align: top;\n",
       "    }\n",
       "\n",
       "    .dataframe thead th {\n",
       "        text-align: right;\n",
       "    }\n",
       "</style>\n",
       "<table border=\"1\" class=\"dataframe\">\n",
       "  <thead>\n",
       "    <tr style=\"text-align: right;\">\n",
       "      <th></th>\n",
       "      <th>Quote</th>\n",
       "      <th>Author</th>\n",
       "      <th>Type Of Quote</th>\n",
       "    </tr>\n",
       "  </thead>\n",
       "  <tbody>\n",
       "    <tr>\n",
       "      <th>0</th>\n",
       "      <td>The essence of strategy is choosing what not t...</td>\n",
       "      <td>Michael Porter</td>\n",
       "      <td>Essence, Deep Thought, Transcendentalism</td>\n",
       "    </tr>\n",
       "    <tr>\n",
       "      <th>1</th>\n",
       "      <td>One cannot and must not try to erase the past ...</td>\n",
       "      <td>Golda Meir</td>\n",
       "      <td>Inspiration, Past, Trying</td>\n",
       "    </tr>\n",
       "    <tr>\n",
       "      <th>2</th>\n",
       "      <td>Patriotism means to stand by the country. It d...</td>\n",
       "      <td>Theodore Roosevelt</td>\n",
       "      <td>Country, Peace, War</td>\n",
       "    </tr>\n",
       "    <tr>\n",
       "      <th>3</th>\n",
       "      <td>Death is something inevitable. When a man has ...</td>\n",
       "      <td>Nelson Mandela</td>\n",
       "      <td>Inspirational, Motivational, Death</td>\n",
       "    </tr>\n",
       "    <tr>\n",
       "      <th>4</th>\n",
       "      <td>You have to love a nation that celebrates its ...</td>\n",
       "      <td>Erma Bombeck</td>\n",
       "      <td>4th Of July, Food, Patriotic</td>\n",
       "    </tr>\n",
       "    <tr>\n",
       "      <th>...</th>\n",
       "      <td>...</td>\n",
       "      <td>...</td>\n",
       "      <td>...</td>\n",
       "    </tr>\n",
       "    <tr>\n",
       "      <th>995</th>\n",
       "      <td>To love means loving the unlovable. To forgive...</td>\n",
       "      <td>Gilbert K. Chesterton</td>\n",
       "      <td>Love, Inspirational, Success</td>\n",
       "    </tr>\n",
       "    <tr>\n",
       "      <th>996</th>\n",
       "      <td>Be brave. Take risks. Nothing can substitute e...</td>\n",
       "      <td>Paulo Coelho</td>\n",
       "      <td>Encouraging, Courage, Inspiration</td>\n",
       "    </tr>\n",
       "    <tr>\n",
       "      <th>997</th>\n",
       "      <td>If you really want to do something, you'll fin...</td>\n",
       "      <td>Jim Rohn</td>\n",
       "      <td>Inspirational, Motivational, Success</td>\n",
       "    </tr>\n",
       "    <tr>\n",
       "      <th>998</th>\n",
       "      <td>It is neither wealth nor splendor; but tranqui...</td>\n",
       "      <td>Thomas Jefferson</td>\n",
       "      <td>Life, Happiness, Work</td>\n",
       "    </tr>\n",
       "    <tr>\n",
       "      <th>999</th>\n",
       "      <td>A thousand words will not leave so deep an imp...</td>\n",
       "      <td>Henrik Ibsen</td>\n",
       "      <td>Inspirational, Inspiring, Positivity</td>\n",
       "    </tr>\n",
       "  </tbody>\n",
       "</table>\n",
       "<p>1000 rows × 3 columns</p>\n",
       "</div>"
      ],
      "text/plain": [
       "                                                 Quote                 Author  \\\n",
       "0    The essence of strategy is choosing what not t...         Michael Porter   \n",
       "1    One cannot and must not try to erase the past ...             Golda Meir   \n",
       "2    Patriotism means to stand by the country. It d...     Theodore Roosevelt   \n",
       "3    Death is something inevitable. When a man has ...         Nelson Mandela   \n",
       "4    You have to love a nation that celebrates its ...           Erma Bombeck   \n",
       "..                                                 ...                    ...   \n",
       "995  To love means loving the unlovable. To forgive...  Gilbert K. Chesterton   \n",
       "996  Be brave. Take risks. Nothing can substitute e...           Paulo Coelho   \n",
       "997  If you really want to do something, you'll fin...               Jim Rohn   \n",
       "998  It is neither wealth nor splendor; but tranqui...       Thomas Jefferson   \n",
       "999  A thousand words will not leave so deep an imp...           Henrik Ibsen   \n",
       "\n",
       "                                Type Of Quote  \n",
       "0    Essence, Deep Thought, Transcendentalism  \n",
       "1                   Inspiration, Past, Trying  \n",
       "2                         Country, Peace, War  \n",
       "3          Inspirational, Motivational, Death  \n",
       "4                4th Of July, Food, Patriotic  \n",
       "..                                        ...  \n",
       "995              Love, Inspirational, Success  \n",
       "996         Encouraging, Courage, Inspiration  \n",
       "997      Inspirational, Motivational, Success  \n",
       "998                     Life, Happiness, Work  \n",
       "999      Inspirational, Inspiring, Positivity  \n",
       "\n",
       "[1000 rows x 3 columns]"
      ]
     },
     "execution_count": 104,
     "metadata": {},
     "output_type": "execute_result"
    }
   ],
   "source": [
    "df = pd.DataFrame({\"Quote\":top_quotes,\n",
    "                  \"Author\":top_authors,\n",
    "                  \"Type Of Quote\":type_of_quotes})\n",
    "\n",
    "df"
   ]
  },
  {
   "cell_type": "markdown",
   "id": "3e949dfe",
   "metadata": {},
   "source": [
    "## Q9: Write a python program to display list of respected former Prime Ministers of India(i.e. Name, Born-Dead, Term of office, Remarks) from https://www.jagranjosh.com/."
   ]
  },
  {
   "cell_type": "code",
   "execution_count": 3,
   "id": "d676a5c1",
   "metadata": {},
   "outputs": [],
   "source": [
    "driver.get('https://www.jagranjosh.com/')"
   ]
  },
  {
   "cell_type": "code",
   "execution_count": 4,
   "id": "ef73f30b",
   "metadata": {},
   "outputs": [],
   "source": [
    "gkclick= driver.find_element(By.XPATH,'/html/body/div/div[1]/div/div[1]/div/div[5]/div/div[1]/header/div[3]/ul/li[9]/a')\n",
    "gkclick.click()"
   ]
  },
  {
   "cell_type": "code",
   "execution_count": 6,
   "id": "d1f98ded",
   "metadata": {},
   "outputs": [],
   "source": [
    "prime_click = driver.find_element(By.XPATH,'/html/body/div[1]/div/div/div[2]/div/div[10]/div/div/ul/li[2]/a')\n",
    "prime_click.click()"
   ]
  },
  {
   "cell_type": "code",
   "execution_count": 44,
   "id": "87bed1dd",
   "metadata": {},
   "outputs": [],
   "source": [
    "prime = driver.find_elements(By.XPATH,'//td[contains(@style, \"width: 150px\")]')\n"
   ]
  },
  {
   "cell_type": "code",
   "execution_count": 45,
   "id": "b4650ef3",
   "metadata": {},
   "outputs": [],
   "source": [
    "prime_minister=[]\n",
    "\n",
    "for i in prime:\n",
    "    prime_minister.append(i.text)\n",
    "    "
   ]
  },
  {
   "cell_type": "code",
   "execution_count": 46,
   "id": "1a9b851a",
   "metadata": {},
   "outputs": [
    {
     "data": {
      "text/plain": [
       "['Jawahar Lal Nehru',\n",
       " 'Gulzarilal Nanda (Acting)',\n",
       " 'Lal Bahadur Shastri',\n",
       " 'Gulzari Lal Nanda  (Acting)',\n",
       " 'Indira Gandhi',\n",
       " 'Morarji Desai',\n",
       " 'Charan Singh',\n",
       " 'Indira Gandhi',\n",
       " 'Rajiv Gandhi',\n",
       " 'V. P. Singh',\n",
       " 'Chandra Shekhar',\n",
       " 'P. V. Narasimha Rao',\n",
       " 'Atal Bihari Vajpayee',\n",
       " 'H. D. Deve Gowda',\n",
       " 'Inder Kumar Gujral',\n",
       " 'Atal Bihari Vajpayee',\n",
       " 'Manmohan Singh',\n",
       " 'Narendra Modi']"
      ]
     },
     "execution_count": 46,
     "metadata": {},
     "output_type": "execute_result"
    }
   ],
   "source": [
    "prime_minister"
   ]
  },
  {
   "cell_type": "code",
   "execution_count": 50,
   "id": "c2761a80",
   "metadata": {},
   "outputs": [],
   "source": [
    "born_dead = driver.find_elements(By.XPATH,'//td[contains(@style, \"width: 105px\")]')"
   ]
  },
  {
   "cell_type": "code",
   "execution_count": 51,
   "id": "5a5ae6e0",
   "metadata": {},
   "outputs": [],
   "source": [
    "born_dead_of_minister=[]\n",
    "\n",
    "for i in born_dead:\n",
    "    born_dead_of_minister.append(i.text)"
   ]
  },
  {
   "cell_type": "code",
   "execution_count": 52,
   "id": "22813183",
   "metadata": {},
   "outputs": [],
   "source": [
    "duration = driver.find_elements(By.XPATH,'//td[contains(@style,\"width: 256px\")]')"
   ]
  },
  {
   "cell_type": "code",
   "execution_count": 62,
   "id": "bee9ebf1",
   "metadata": {},
   "outputs": [],
   "source": [
    "duration_of_minister = []\n",
    "for i in duration:\n",
    "    duration_of_minister.append(i.text.replace(\"\\n\",\" \"))\n",
    "    "
   ]
  },
  {
   "cell_type": "code",
   "execution_count": 63,
   "id": "9d79f21f",
   "metadata": {},
   "outputs": [
    {
     "data": {
      "text/plain": [
       "['15 August 1947 to 27 May 1964 16 years, 286 days',\n",
       " '27 May 1964 to 9 June 1964, 13 days',\n",
       " '9 June 1964 to 11 January 1966 1 year, 216 days',\n",
       " '11 January 1966 to 24 January 1966 13 days',\n",
       " '24 January 1966 to 24 March 1977 11 years, 59 days',\n",
       " '24 March 1977 to  28 July 1979  2 year, 126 days',\n",
       " '28 July 1979 to 14 January 1980 170 days',\n",
       " '14 January 1980 to 31 October 1984 4 years, 291 days',\n",
       " '31 October 1984 to 2 December 1989 5 years, 32 days',\n",
       " '2 December 1989 to 10 November 1990 343 days',\n",
       " '10 November 1990 to 21 June 1991 223 days',\n",
       " '21 June 1991 to 16 May 1996 4 years, 330 days',\n",
       " '16 May 1996 to 1 June 1996 16 days',\n",
       " '1 June 1996 to 21 April 1997 324 days',\n",
       " '21 April 1997 to 19 March 1998  332 days',\n",
       " '19 March 1998 to 22 May 2004  6 years, 64 days',\n",
       " '22 May 2004 to 26 May 2014    10 years, 4 days',\n",
       " '26 May 2014 - Present']"
      ]
     },
     "execution_count": 63,
     "metadata": {},
     "output_type": "execute_result"
    }
   ],
   "source": [
    "duration_of_minister"
   ]
  },
  {
   "cell_type": "code",
   "execution_count": 66,
   "id": "60df311a",
   "metadata": {},
   "outputs": [],
   "source": [
    "remarks = driver.find_elements(By.XPATH,'//td[contains(@style,\"width: 145px\")]')"
   ]
  },
  {
   "cell_type": "code",
   "execution_count": 69,
   "id": "51cf3b9f",
   "metadata": {},
   "outputs": [],
   "source": [
    "remarks_of_minister = []\n",
    "for i in remarks:\n",
    "    remarks_of_minister.append(i.text)"
   ]
  },
  {
   "cell_type": "code",
   "execution_count": 70,
   "id": "940991a4",
   "metadata": {},
   "outputs": [
    {
     "data": {
      "text/plain": [
       "['The first prime minister of India and the longest-serving PM of India, the first to die in office.',\n",
       " 'First acting PM of India',\n",
       " \"He has given the slogan of 'Jai Jawan Jai Kisan' during the Indo-Pak war of 1965\",\n",
       " '-',\n",
       " 'First female Prime Minister of India',\n",
       " 'Oldest to become PM (81 years old) and first to resign from office',\n",
       " 'Only PM who did not face the Parliament',\n",
       " 'The first lady who served as PM for the second term',\n",
       " 'Youngest to become PM (40 years old)',\n",
       " 'First PM to step down after a vote of no confidence',\n",
       " 'He belongs to  Samajwadi Janata Party',\n",
       " 'First PM from south India',\n",
       " 'PM for shortest tenure',\n",
       " 'He belongs to  Janata Dal',\n",
       " '------',\n",
       " ' The first non-congress PM who completed a full term as PM',\n",
       " ' First Sikh PM',\n",
       " '4th Prime Minister of India who served two consecutive tenures']"
      ]
     },
     "execution_count": 70,
     "metadata": {},
     "output_type": "execute_result"
    }
   ],
   "source": [
    "remarks_of_minister"
   ]
  },
  {
   "cell_type": "code",
   "execution_count": 54,
   "id": "6d556767",
   "metadata": {},
   "outputs": [
    {
     "data": {
      "text/plain": [
       "18"
      ]
     },
     "execution_count": 54,
     "metadata": {},
     "output_type": "execute_result"
    }
   ],
   "source": [
    "len(prime_minister)"
   ]
  },
  {
   "cell_type": "code",
   "execution_count": 55,
   "id": "861e7e1c",
   "metadata": {},
   "outputs": [
    {
     "data": {
      "text/plain": [
       "18"
      ]
     },
     "execution_count": 55,
     "metadata": {},
     "output_type": "execute_result"
    }
   ],
   "source": [
    "len(born_dead_of_minister)"
   ]
  },
  {
   "cell_type": "code",
   "execution_count": 56,
   "id": "6d2c4865",
   "metadata": {},
   "outputs": [
    {
     "data": {
      "text/plain": [
       "18"
      ]
     },
     "execution_count": 56,
     "metadata": {},
     "output_type": "execute_result"
    }
   ],
   "source": [
    "len(duration_of_minister)"
   ]
  },
  {
   "cell_type": "code",
   "execution_count": 71,
   "id": "21721da7",
   "metadata": {},
   "outputs": [
    {
     "data": {
      "text/plain": [
       "18"
      ]
     },
     "execution_count": 71,
     "metadata": {},
     "output_type": "execute_result"
    }
   ],
   "source": [
    "len(remarks_of_minister)"
   ]
  },
  {
   "cell_type": "code",
   "execution_count": 72,
   "id": "76ad16d4",
   "metadata": {},
   "outputs": [],
   "source": [
    "df = pd.DataFrame({\"Name of Prime Minister\": prime_minister,\n",
    "                  \"Born-Dead\": born_dead_of_minister,\n",
    "                  \"Term of Office\": duration_of_minister,\n",
    "                  \"Remarks\":remarks_of_minister})"
   ]
  },
  {
   "cell_type": "code",
   "execution_count": 73,
   "id": "6c568a1f",
   "metadata": {},
   "outputs": [
    {
     "data": {
      "text/html": [
       "<div>\n",
       "<style scoped>\n",
       "    .dataframe tbody tr th:only-of-type {\n",
       "        vertical-align: middle;\n",
       "    }\n",
       "\n",
       "    .dataframe tbody tr th {\n",
       "        vertical-align: top;\n",
       "    }\n",
       "\n",
       "    .dataframe thead th {\n",
       "        text-align: right;\n",
       "    }\n",
       "</style>\n",
       "<table border=\"1\" class=\"dataframe\">\n",
       "  <thead>\n",
       "    <tr style=\"text-align: right;\">\n",
       "      <th></th>\n",
       "      <th>Name of Prime Minister</th>\n",
       "      <th>Born-Dead</th>\n",
       "      <th>Term of Office</th>\n",
       "      <th>Remarks</th>\n",
       "    </tr>\n",
       "  </thead>\n",
       "  <tbody>\n",
       "    <tr>\n",
       "      <th>0</th>\n",
       "      <td>Jawahar Lal Nehru</td>\n",
       "      <td>(1889–1964)</td>\n",
       "      <td>15 August 1947 to 27 May 1964 16 years, 286 days</td>\n",
       "      <td>The first prime minister of India and the long...</td>\n",
       "    </tr>\n",
       "    <tr>\n",
       "      <th>1</th>\n",
       "      <td>Gulzarilal Nanda (Acting)</td>\n",
       "      <td>(1898-1998)</td>\n",
       "      <td>27 May 1964 to 9 June 1964, 13 days</td>\n",
       "      <td>First acting PM of India</td>\n",
       "    </tr>\n",
       "    <tr>\n",
       "      <th>2</th>\n",
       "      <td>Lal Bahadur Shastri</td>\n",
       "      <td>(1904–1966)</td>\n",
       "      <td>9 June 1964 to 11 January 1966 1 year, 216 days</td>\n",
       "      <td>He has given the slogan of 'Jai Jawan Jai Kisa...</td>\n",
       "    </tr>\n",
       "    <tr>\n",
       "      <th>3</th>\n",
       "      <td>Gulzari Lal Nanda  (Acting)</td>\n",
       "      <td>(1898-1998)</td>\n",
       "      <td>11 January 1966 to 24 January 1966 13 days</td>\n",
       "      <td>-</td>\n",
       "    </tr>\n",
       "    <tr>\n",
       "      <th>4</th>\n",
       "      <td>Indira Gandhi</td>\n",
       "      <td>(1917–1984)</td>\n",
       "      <td>24 January 1966 to 24 March 1977 11 years, 59 ...</td>\n",
       "      <td>First female Prime Minister of India</td>\n",
       "    </tr>\n",
       "    <tr>\n",
       "      <th>5</th>\n",
       "      <td>Morarji Desai</td>\n",
       "      <td>(1896–1995)</td>\n",
       "      <td>24 March 1977 to  28 July 1979  2 year, 126 days</td>\n",
       "      <td>Oldest to become PM (81 years old) and first t...</td>\n",
       "    </tr>\n",
       "    <tr>\n",
       "      <th>6</th>\n",
       "      <td>Charan Singh</td>\n",
       "      <td>(1902–1987)</td>\n",
       "      <td>28 July 1979 to 14 January 1980 170 days</td>\n",
       "      <td>Only PM who did not face the Parliament</td>\n",
       "    </tr>\n",
       "    <tr>\n",
       "      <th>7</th>\n",
       "      <td>Indira Gandhi</td>\n",
       "      <td>(1917–1984)</td>\n",
       "      <td>14 January 1980 to 31 October 1984 4 years, 29...</td>\n",
       "      <td>The first lady who served as PM for the second...</td>\n",
       "    </tr>\n",
       "    <tr>\n",
       "      <th>8</th>\n",
       "      <td>Rajiv Gandhi</td>\n",
       "      <td>(1944–1991)</td>\n",
       "      <td>31 October 1984 to 2 December 1989 5 years, 32...</td>\n",
       "      <td>Youngest to become PM (40 years old)</td>\n",
       "    </tr>\n",
       "    <tr>\n",
       "      <th>9</th>\n",
       "      <td>V. P. Singh</td>\n",
       "      <td>(1931–2008)</td>\n",
       "      <td>2 December 1989 to 10 November 1990 343 days</td>\n",
       "      <td>First PM to step down after a vote of no confi...</td>\n",
       "    </tr>\n",
       "    <tr>\n",
       "      <th>10</th>\n",
       "      <td>Chandra Shekhar</td>\n",
       "      <td>(1927–2007)</td>\n",
       "      <td>10 November 1990 to 21 June 1991 223 days</td>\n",
       "      <td>He belongs to  Samajwadi Janata Party</td>\n",
       "    </tr>\n",
       "    <tr>\n",
       "      <th>11</th>\n",
       "      <td>P. V. Narasimha Rao</td>\n",
       "      <td>(1921–2004)</td>\n",
       "      <td>21 June 1991 to 16 May 1996 4 years, 330 days</td>\n",
       "      <td>First PM from south India</td>\n",
       "    </tr>\n",
       "    <tr>\n",
       "      <th>12</th>\n",
       "      <td>Atal Bihari Vajpayee</td>\n",
       "      <td>(1924- 2018)</td>\n",
       "      <td>16 May 1996 to 1 June 1996 16 days</td>\n",
       "      <td>PM for shortest tenure</td>\n",
       "    </tr>\n",
       "    <tr>\n",
       "      <th>13</th>\n",
       "      <td>H. D. Deve Gowda</td>\n",
       "      <td>(born 1933)</td>\n",
       "      <td>1 June 1996 to 21 April 1997 324 days</td>\n",
       "      <td>He belongs to  Janata Dal</td>\n",
       "    </tr>\n",
       "    <tr>\n",
       "      <th>14</th>\n",
       "      <td>Inder Kumar Gujral</td>\n",
       "      <td>(1919–2012)</td>\n",
       "      <td>21 April 1997 to 19 March 1998  332 days</td>\n",
       "      <td>------</td>\n",
       "    </tr>\n",
       "    <tr>\n",
       "      <th>15</th>\n",
       "      <td>Atal Bihari Vajpayee</td>\n",
       "      <td>(1924-2018)</td>\n",
       "      <td>19 March 1998 to 22 May 2004  6 years, 64 days</td>\n",
       "      <td>The first non-congress PM who completed a ful...</td>\n",
       "    </tr>\n",
       "    <tr>\n",
       "      <th>16</th>\n",
       "      <td>Manmohan Singh</td>\n",
       "      <td>(born 1932)</td>\n",
       "      <td>22 May 2004 to 26 May 2014    10 years, 4 days</td>\n",
       "      <td>First Sikh PM</td>\n",
       "    </tr>\n",
       "    <tr>\n",
       "      <th>17</th>\n",
       "      <td>Narendra Modi</td>\n",
       "      <td>(born 1950)</td>\n",
       "      <td>26 May 2014 - Present</td>\n",
       "      <td>4th Prime Minister of India who served two con...</td>\n",
       "    </tr>\n",
       "  </tbody>\n",
       "</table>\n",
       "</div>"
      ],
      "text/plain": [
       "         Name of Prime Minister     Born-Dead  \\\n",
       "0             Jawahar Lal Nehru   (1889–1964)   \n",
       "1     Gulzarilal Nanda (Acting)   (1898-1998)   \n",
       "2           Lal Bahadur Shastri   (1904–1966)   \n",
       "3   Gulzari Lal Nanda  (Acting)   (1898-1998)   \n",
       "4                 Indira Gandhi   (1917–1984)   \n",
       "5                 Morarji Desai   (1896–1995)   \n",
       "6                  Charan Singh   (1902–1987)   \n",
       "7                 Indira Gandhi   (1917–1984)   \n",
       "8                  Rajiv Gandhi   (1944–1991)   \n",
       "9                   V. P. Singh   (1931–2008)   \n",
       "10              Chandra Shekhar   (1927–2007)   \n",
       "11          P. V. Narasimha Rao   (1921–2004)   \n",
       "12         Atal Bihari Vajpayee  (1924- 2018)   \n",
       "13             H. D. Deve Gowda   (born 1933)   \n",
       "14           Inder Kumar Gujral   (1919–2012)   \n",
       "15         Atal Bihari Vajpayee   (1924-2018)   \n",
       "16               Manmohan Singh   (born 1932)   \n",
       "17                Narendra Modi   (born 1950)   \n",
       "\n",
       "                                       Term of Office  \\\n",
       "0    15 August 1947 to 27 May 1964 16 years, 286 days   \n",
       "1                 27 May 1964 to 9 June 1964, 13 days   \n",
       "2     9 June 1964 to 11 January 1966 1 year, 216 days   \n",
       "3          11 January 1966 to 24 January 1966 13 days   \n",
       "4   24 January 1966 to 24 March 1977 11 years, 59 ...   \n",
       "5    24 March 1977 to  28 July 1979  2 year, 126 days   \n",
       "6            28 July 1979 to 14 January 1980 170 days   \n",
       "7   14 January 1980 to 31 October 1984 4 years, 29...   \n",
       "8   31 October 1984 to 2 December 1989 5 years, 32...   \n",
       "9        2 December 1989 to 10 November 1990 343 days   \n",
       "10          10 November 1990 to 21 June 1991 223 days   \n",
       "11      21 June 1991 to 16 May 1996 4 years, 330 days   \n",
       "12                 16 May 1996 to 1 June 1996 16 days   \n",
       "13              1 June 1996 to 21 April 1997 324 days   \n",
       "14           21 April 1997 to 19 March 1998  332 days   \n",
       "15     19 March 1998 to 22 May 2004  6 years, 64 days   \n",
       "16     22 May 2004 to 26 May 2014    10 years, 4 days   \n",
       "17                              26 May 2014 - Present   \n",
       "\n",
       "                                              Remarks  \n",
       "0   The first prime minister of India and the long...  \n",
       "1                            First acting PM of India  \n",
       "2   He has given the slogan of 'Jai Jawan Jai Kisa...  \n",
       "3                                                   -  \n",
       "4                First female Prime Minister of India  \n",
       "5   Oldest to become PM (81 years old) and first t...  \n",
       "6             Only PM who did not face the Parliament  \n",
       "7   The first lady who served as PM for the second...  \n",
       "8                Youngest to become PM (40 years old)  \n",
       "9   First PM to step down after a vote of no confi...  \n",
       "10              He belongs to  Samajwadi Janata Party  \n",
       "11                          First PM from south India  \n",
       "12                             PM for shortest tenure  \n",
       "13                          He belongs to  Janata Dal  \n",
       "14                                             ------  \n",
       "15   The first non-congress PM who completed a ful...  \n",
       "16                                      First Sikh PM  \n",
       "17  4th Prime Minister of India who served two con...  "
      ]
     },
     "execution_count": 73,
     "metadata": {},
     "output_type": "execute_result"
    }
   ],
   "source": [
    "df"
   ]
  },
  {
   "cell_type": "markdown",
   "id": "7ba2b65d",
   "metadata": {},
   "source": [
    "## Q10: Write a python program to display list of 50 Most expensive cars in the world (i.e. Car name and Price) from https://www.motor1.com/"
   ]
  },
  {
   "cell_type": "code",
   "execution_count": 74,
   "id": "5002620c",
   "metadata": {},
   "outputs": [],
   "source": [
    "driver.get('https://www.motor1.com/')"
   ]
  },
  {
   "cell_type": "code",
   "execution_count": 76,
   "id": "6daccb46",
   "metadata": {},
   "outputs": [],
   "source": [
    "list_button = driver.find_element(By.CLASS_NAME,'m1-hamburger-button')\n",
    "list_button.click()"
   ]
  },
  {
   "cell_type": "code",
   "execution_count": 77,
   "id": "9f5bd3b7",
   "metadata": {},
   "outputs": [],
   "source": [
    "features = driver.find_element(By.XPATH,'/html/body/div[4]/div[1]/div[3]/ul/li[5]/a')\n",
    "features.click()"
   ]
  },
  {
   "cell_type": "code",
   "execution_count": 79,
   "id": "9d582868",
   "metadata": {},
   "outputs": [],
   "source": [
    "view_more = driver.find_element(By.XPATH,'/html/body/div[3]/div[6]/div/div[1]/div[2]/a')\n",
    "view_more.click()"
   ]
  },
  {
   "cell_type": "code",
   "execution_count": 80,
   "id": "10888174",
   "metadata": {},
   "outputs": [],
   "source": [
    "expensive_tab = driver.find_element(By.XPATH,'/html/body/div[3]/div[8]/div[1]/div[1]/div/div/div[8]/div/div[1]/a')\n",
    "expensive_tab.click()"
   ]
  },
  {
   "cell_type": "code",
   "execution_count": 81,
   "id": "f0ff0f7c",
   "metadata": {},
   "outputs": [],
   "source": [
    "cars_list = driver.find_elements(By.XPATH,'//h3[@class=\"subheader\"]')\n"
   ]
  },
  {
   "cell_type": "code",
   "execution_count": 82,
   "id": "e45cd7f6",
   "metadata": {},
   "outputs": [],
   "source": [
    "car_name = []\n",
    "for i in cars_list[0:50]:\n",
    "    car_name.append(i.text)"
   ]
  },
  {
   "cell_type": "code",
   "execution_count": 85,
   "id": "3f7a30b4",
   "metadata": {},
   "outputs": [
    {
     "data": {
      "text/plain": [
       "50"
      ]
     },
     "execution_count": 85,
     "metadata": {},
     "output_type": "execute_result"
    }
   ],
   "source": [
    "len(car_name)"
   ]
  },
  {
   "cell_type": "code",
   "execution_count": 91,
   "id": "3d5edd51",
   "metadata": {},
   "outputs": [],
   "source": [
    "price_list = driver.find_elements(By.XPATH,'//p[strong]')"
   ]
  },
  {
   "cell_type": "code",
   "execution_count": 106,
   "id": "3f921ba6",
   "metadata": {},
   "outputs": [],
   "source": [
    "car_price = []\n",
    "for i in price_list:\n",
    "    if \"$\" in i.text:\n",
    "        car_price.append(i.text)\n",
    "        "
   ]
  },
  {
   "cell_type": "code",
   "execution_count": 109,
   "id": "2cd307d7",
   "metadata": {},
   "outputs": [
    {
     "data": {
      "text/plain": [
       "['Price: $1.3 Million',\n",
       " 'Price: $1.4 Million',\n",
       " 'Price: $1.4 Million',\n",
       " 'Inarguably one of the prettiest cars on this list, the Pagani Huayra cost a cool $1.4 million when new. Like the LaFerrari, Pagani built the Huayra in extremely limited numbers. The company hand-constructed just 100 units of the coupe between 2012 and 2018, with another 20 versions of the BC model (which makes our list further down) between 2017 and 2019. Powering each and every example was a Mercedes-AMG V12 capable of 720 horsepower (537 kilowatts).',\n",
       " 'Price: $1.7 Million',\n",
       " 'Price: $1.7 Million',\n",
       " 'Price: $1.7 Million',\n",
       " 'Price: $1.7 Million',\n",
       " 'Price: $1.7 Million',\n",
       " 'Price: $1.7 Million',\n",
       " 'Price: $1.8 Million',\n",
       " 'Price: $1.9 Million',\n",
       " 'Price: $1.9 Million',\n",
       " 'Price: $2.0 Million',\n",
       " 'Price: $2.0 Million',\n",
       " 'Price: $2.0 Million*',\n",
       " 'Price: $2.1 Million',\n",
       " 'Price: $2.3 Million',\n",
       " 'Price: $2.3 Million',\n",
       " 'Price: $2.3 Million',\n",
       " 'Price: $2.4 Million',\n",
       " 'Price: $2.5 Million',\n",
       " 'Price: $2.5 Million',\n",
       " 'Price: $2.6 Million',\n",
       " 'Price: $2.6 Million',\n",
       " 'Price: $2.6 Million',\n",
       " 'Price: $2.7 Million',\n",
       " 'Price: $3.0 Million',\n",
       " '$3.0 Million',\n",
       " 'Price: $3.0 Million',\n",
       " 'Price: $3.2 Million',\n",
       " 'Price: $3.4 Million',\n",
       " '$3.5 Million',\n",
       " 'Price: $3.5 Million',\n",
       " 'Price: $3.6 Million',\n",
       " 'Price: $3.6 million',\n",
       " 'Price: $3.7 Million',\n",
       " 'Price: $3.9 Million',\n",
       " 'Price: $4.5 Million',\n",
       " 'Price: $4.7 Million',\n",
       " 'Price: $5.0 Million',\n",
       " 'Price: $5.4 Million',\n",
       " 'Price: $5.8 Million',\n",
       " 'Price: $6.4 Million',\n",
       " 'Price: $7.4 Million',\n",
       " 'Price: $8.0 Million',\n",
       " 'Price: $9.0 Million',\n",
       " 'Price: $10.8 Million',\n",
       " 'Price: $12.8 Million',\n",
       " 'Price: $13.4 Million',\n",
       " 'Price: $28.0 Million (est.)']"
      ]
     },
     "execution_count": 109,
     "metadata": {},
     "output_type": "execute_result"
    }
   ],
   "source": [
    "car_price"
   ]
  },
  {
   "cell_type": "code",
   "execution_count": 112,
   "id": "ee8e82ec",
   "metadata": {},
   "outputs": [],
   "source": [
    "del car_price[3]"
   ]
  },
  {
   "cell_type": "code",
   "execution_count": 114,
   "id": "0506dcf0",
   "metadata": {},
   "outputs": [
    {
     "data": {
      "text/plain": [
       "50"
      ]
     },
     "execution_count": 114,
     "metadata": {},
     "output_type": "execute_result"
    }
   ],
   "source": [
    "len(car_price)"
   ]
  },
  {
   "cell_type": "code",
   "execution_count": 116,
   "id": "a340b33e",
   "metadata": {},
   "outputs": [],
   "source": [
    "df = pd.DataFrame({\"Car Name\" :car_name,\n",
    "                  \"Car_Price\":car_price})"
   ]
  },
  {
   "cell_type": "code",
   "execution_count": 117,
   "id": "2e4d2f53",
   "metadata": {},
   "outputs": [
    {
     "data": {
      "text/html": [
       "<div>\n",
       "<style scoped>\n",
       "    .dataframe tbody tr th:only-of-type {\n",
       "        vertical-align: middle;\n",
       "    }\n",
       "\n",
       "    .dataframe tbody tr th {\n",
       "        vertical-align: top;\n",
       "    }\n",
       "\n",
       "    .dataframe thead th {\n",
       "        text-align: right;\n",
       "    }\n",
       "</style>\n",
       "<table border=\"1\" class=\"dataframe\">\n",
       "  <thead>\n",
       "    <tr style=\"text-align: right;\">\n",
       "      <th></th>\n",
       "      <th>Car Name</th>\n",
       "      <th>Car_Price</th>\n",
       "    </tr>\n",
       "  </thead>\n",
       "  <tbody>\n",
       "    <tr>\n",
       "      <th>0</th>\n",
       "      <td>De Tomaso P72</td>\n",
       "      <td>Price: $1.3 Million</td>\n",
       "    </tr>\n",
       "    <tr>\n",
       "      <th>1</th>\n",
       "      <td>Ferrari LaFerrari</td>\n",
       "      <td>Price: $1.4 Million</td>\n",
       "    </tr>\n",
       "    <tr>\n",
       "      <th>2</th>\n",
       "      <td>Pagani Huayra</td>\n",
       "      <td>Price: $1.4 Million</td>\n",
       "    </tr>\n",
       "    <tr>\n",
       "      <th>3</th>\n",
       "      <td>McLaren Elva</td>\n",
       "      <td>Price: $1.7 Million</td>\n",
       "    </tr>\n",
       "    <tr>\n",
       "      <th>4</th>\n",
       "      <td>Czinger 21C</td>\n",
       "      <td>Price: $1.7 Million</td>\n",
       "    </tr>\n",
       "    <tr>\n",
       "      <th>5</th>\n",
       "      <td>Ferrari Monza</td>\n",
       "      <td>Price: $1.7 Million</td>\n",
       "    </tr>\n",
       "    <tr>\n",
       "      <th>6</th>\n",
       "      <td>Gordon Murray T.33</td>\n",
       "      <td>Price: $1.7 Million</td>\n",
       "    </tr>\n",
       "    <tr>\n",
       "      <th>7</th>\n",
       "      <td>Koenigsegg Gemera</td>\n",
       "      <td>Price: $1.7 Million</td>\n",
       "    </tr>\n",
       "    <tr>\n",
       "      <th>8</th>\n",
       "      <td>Zenvo TSR-S</td>\n",
       "      <td>Price: $1.7 Million</td>\n",
       "    </tr>\n",
       "    <tr>\n",
       "      <th>9</th>\n",
       "      <td>Hennessey Venom F5</td>\n",
       "      <td>Price: $1.8 Million</td>\n",
       "    </tr>\n",
       "    <tr>\n",
       "      <th>10</th>\n",
       "      <td>Bentley Bacalar</td>\n",
       "      <td>Price: $1.9 Million</td>\n",
       "    </tr>\n",
       "    <tr>\n",
       "      <th>11</th>\n",
       "      <td>Hispano Suiza Carmen Boulogne</td>\n",
       "      <td>Price: $1.9 Million</td>\n",
       "    </tr>\n",
       "    <tr>\n",
       "      <th>12</th>\n",
       "      <td>Bentley Mulliner Batur</td>\n",
       "      <td>Price: $2.0 Million</td>\n",
       "    </tr>\n",
       "    <tr>\n",
       "      <th>13</th>\n",
       "      <td>Deus Vayanne</td>\n",
       "      <td>Price: $2.0 Million</td>\n",
       "    </tr>\n",
       "    <tr>\n",
       "      <th>14</th>\n",
       "      <td>SSC Tuatara</td>\n",
       "      <td>Price: $2.0 Million*</td>\n",
       "    </tr>\n",
       "    <tr>\n",
       "      <th>15</th>\n",
       "      <td>Lotus Evija</td>\n",
       "      <td>Price: $2.1 Million</td>\n",
       "    </tr>\n",
       "    <tr>\n",
       "      <th>16</th>\n",
       "      <td>Aston Martin Vulcan</td>\n",
       "      <td>Price: $2.3 Million</td>\n",
       "    </tr>\n",
       "    <tr>\n",
       "      <th>17</th>\n",
       "      <td>Delage D12</td>\n",
       "      <td>Price: $2.3 Million</td>\n",
       "    </tr>\n",
       "    <tr>\n",
       "      <th>18</th>\n",
       "      <td>McLaren Speedtail</td>\n",
       "      <td>Price: $2.3 Million</td>\n",
       "    </tr>\n",
       "    <tr>\n",
       "      <th>19</th>\n",
       "      <td>Rimac Nevera</td>\n",
       "      <td>Price: $2.4 Million</td>\n",
       "    </tr>\n",
       "    <tr>\n",
       "      <th>20</th>\n",
       "      <td>Pagani Utopia</td>\n",
       "      <td>Price: $2.5 Million</td>\n",
       "    </tr>\n",
       "    <tr>\n",
       "      <th>21</th>\n",
       "      <td>Pininfarina Battista</td>\n",
       "      <td>Price: $2.5 Million</td>\n",
       "    </tr>\n",
       "    <tr>\n",
       "      <th>22</th>\n",
       "      <td>Ferrari FXX K Evo</td>\n",
       "      <td>Price: $2.6 Million</td>\n",
       "    </tr>\n",
       "    <tr>\n",
       "      <th>23</th>\n",
       "      <td>Gordon Murray T.50</td>\n",
       "      <td>Price: $2.6 Million</td>\n",
       "    </tr>\n",
       "    <tr>\n",
       "      <th>24</th>\n",
       "      <td>Lamborghini Countach</td>\n",
       "      <td>Price: $2.6 Million</td>\n",
       "    </tr>\n",
       "    <tr>\n",
       "      <th>25</th>\n",
       "      <td>Mercedes-AMG Project One</td>\n",
       "      <td>Price: $2.7 Million</td>\n",
       "    </tr>\n",
       "    <tr>\n",
       "      <th>26</th>\n",
       "      <td>Aston Martin Victor</td>\n",
       "      <td>Price: $3.0 Million</td>\n",
       "    </tr>\n",
       "    <tr>\n",
       "      <th>27</th>\n",
       "      <td>Hennessey Venom F5 Roadster</td>\n",
       "      <td>$3.0 Million</td>\n",
       "    </tr>\n",
       "    <tr>\n",
       "      <th>28</th>\n",
       "      <td>Koenigsegg Jesko</td>\n",
       "      <td>Price: $3.0 Million</td>\n",
       "    </tr>\n",
       "    <tr>\n",
       "      <th>29</th>\n",
       "      <td>Aston Martin Valkyrie</td>\n",
       "      <td>Price: $3.2 Million</td>\n",
       "    </tr>\n",
       "    <tr>\n",
       "      <th>30</th>\n",
       "      <td>W Motors Lykan Hypersport</td>\n",
       "      <td>Price: $3.4 Million</td>\n",
       "    </tr>\n",
       "    <tr>\n",
       "      <th>31</th>\n",
       "      <td>McLaren Solus</td>\n",
       "      <td>$3.5 Million</td>\n",
       "    </tr>\n",
       "    <tr>\n",
       "      <th>32</th>\n",
       "      <td>Pagani Huayra Roadster BC</td>\n",
       "      <td>Price: $3.5 Million</td>\n",
       "    </tr>\n",
       "    <tr>\n",
       "      <th>33</th>\n",
       "      <td>Bugatti Chiron Pur Sport</td>\n",
       "      <td>Price: $3.6 Million</td>\n",
       "    </tr>\n",
       "    <tr>\n",
       "      <th>34</th>\n",
       "      <td>Lamborghini Sian</td>\n",
       "      <td>Price: $3.6 million</td>\n",
       "    </tr>\n",
       "    <tr>\n",
       "      <th>35</th>\n",
       "      <td>Koenigsegg CC850</td>\n",
       "      <td>Price: $3.7 Million</td>\n",
       "    </tr>\n",
       "    <tr>\n",
       "      <th>36</th>\n",
       "      <td>Bugatti Chiron Super Sport 300+</td>\n",
       "      <td>Price: $3.9 Million</td>\n",
       "    </tr>\n",
       "    <tr>\n",
       "      <th>37</th>\n",
       "      <td>Lamborghini Veneno</td>\n",
       "      <td>Price: $4.5 Million</td>\n",
       "    </tr>\n",
       "    <tr>\n",
       "      <th>38</th>\n",
       "      <td>Bugatti Bolide</td>\n",
       "      <td>Price: $4.7 Million</td>\n",
       "    </tr>\n",
       "    <tr>\n",
       "      <th>39</th>\n",
       "      <td>Bugatti Mistral</td>\n",
       "      <td>Price: $5.0 Million</td>\n",
       "    </tr>\n",
       "    <tr>\n",
       "      <th>40</th>\n",
       "      <td>Pagani Huayra Imola</td>\n",
       "      <td>Price: $5.4 Million</td>\n",
       "    </tr>\n",
       "    <tr>\n",
       "      <th>41</th>\n",
       "      <td>Bugatti Divo</td>\n",
       "      <td>Price: $5.8 Million</td>\n",
       "    </tr>\n",
       "    <tr>\n",
       "      <th>42</th>\n",
       "      <td>SP Automotive Chaos</td>\n",
       "      <td>Price: $6.4 Million</td>\n",
       "    </tr>\n",
       "    <tr>\n",
       "      <th>43</th>\n",
       "      <td>Pagani Codalunga</td>\n",
       "      <td>Price: $7.4 Million</td>\n",
       "    </tr>\n",
       "    <tr>\n",
       "      <th>44</th>\n",
       "      <td>Mercedes-Maybach Exelero</td>\n",
       "      <td>Price: $8.0 Million</td>\n",
       "    </tr>\n",
       "    <tr>\n",
       "      <th>45</th>\n",
       "      <td>Bugatti Centodieci</td>\n",
       "      <td>Price: $9.0 Million</td>\n",
       "    </tr>\n",
       "    <tr>\n",
       "      <th>46</th>\n",
       "      <td>Bugatti Chiron Profilée</td>\n",
       "      <td>Price: $10.8 Million</td>\n",
       "    </tr>\n",
       "    <tr>\n",
       "      <th>47</th>\n",
       "      <td>Rolls-Royce Sweptail</td>\n",
       "      <td>Price: $12.8 Million</td>\n",
       "    </tr>\n",
       "    <tr>\n",
       "      <th>48</th>\n",
       "      <td>Bugatti La Voiture Noire</td>\n",
       "      <td>Price: $13.4 Million</td>\n",
       "    </tr>\n",
       "    <tr>\n",
       "      <th>49</th>\n",
       "      <td>Rolls-Royce Boat Tail*</td>\n",
       "      <td>Price: $28.0 Million (est.)</td>\n",
       "    </tr>\n",
       "  </tbody>\n",
       "</table>\n",
       "</div>"
      ],
      "text/plain": [
       "                           Car Name                    Car_Price\n",
       "0                     De Tomaso P72          Price: $1.3 Million\n",
       "1                 Ferrari LaFerrari          Price: $1.4 Million\n",
       "2                     Pagani Huayra          Price: $1.4 Million\n",
       "3                      McLaren Elva          Price: $1.7 Million\n",
       "4                       Czinger 21C          Price: $1.7 Million\n",
       "5                     Ferrari Monza          Price: $1.7 Million\n",
       "6                Gordon Murray T.33          Price: $1.7 Million\n",
       "7                 Koenigsegg Gemera          Price: $1.7 Million\n",
       "8                       Zenvo TSR-S          Price: $1.7 Million\n",
       "9                Hennessey Venom F5          Price: $1.8 Million\n",
       "10                  Bentley Bacalar          Price: $1.9 Million\n",
       "11    Hispano Suiza Carmen Boulogne          Price: $1.9 Million\n",
       "12           Bentley Mulliner Batur          Price: $2.0 Million\n",
       "13                     Deus Vayanne          Price: $2.0 Million\n",
       "14                      SSC Tuatara         Price: $2.0 Million*\n",
       "15                      Lotus Evija          Price: $2.1 Million\n",
       "16              Aston Martin Vulcan          Price: $2.3 Million\n",
       "17                       Delage D12          Price: $2.3 Million\n",
       "18                McLaren Speedtail          Price: $2.3 Million\n",
       "19                     Rimac Nevera          Price: $2.4 Million\n",
       "20                    Pagani Utopia          Price: $2.5 Million\n",
       "21             Pininfarina Battista          Price: $2.5 Million\n",
       "22                Ferrari FXX K Evo          Price: $2.6 Million\n",
       "23               Gordon Murray T.50          Price: $2.6 Million\n",
       "24             Lamborghini Countach          Price: $2.6 Million\n",
       "25         Mercedes-AMG Project One          Price: $2.7 Million\n",
       "26              Aston Martin Victor          Price: $3.0 Million\n",
       "27      Hennessey Venom F5 Roadster                 $3.0 Million\n",
       "28                 Koenigsegg Jesko          Price: $3.0 Million\n",
       "29            Aston Martin Valkyrie          Price: $3.2 Million\n",
       "30        W Motors Lykan Hypersport          Price: $3.4 Million\n",
       "31                    McLaren Solus                 $3.5 Million\n",
       "32        Pagani Huayra Roadster BC          Price: $3.5 Million\n",
       "33         Bugatti Chiron Pur Sport          Price: $3.6 Million\n",
       "34                 Lamborghini Sian          Price: $3.6 million\n",
       "35                 Koenigsegg CC850          Price: $3.7 Million\n",
       "36  Bugatti Chiron Super Sport 300+          Price: $3.9 Million\n",
       "37               Lamborghini Veneno          Price: $4.5 Million\n",
       "38                   Bugatti Bolide          Price: $4.7 Million\n",
       "39                  Bugatti Mistral          Price: $5.0 Million\n",
       "40              Pagani Huayra Imola          Price: $5.4 Million\n",
       "41                     Bugatti Divo          Price: $5.8 Million\n",
       "42              SP Automotive Chaos          Price: $6.4 Million\n",
       "43                 Pagani Codalunga          Price: $7.4 Million\n",
       "44         Mercedes-Maybach Exelero          Price: $8.0 Million\n",
       "45               Bugatti Centodieci          Price: $9.0 Million\n",
       "46          Bugatti Chiron Profilée         Price: $10.8 Million\n",
       "47             Rolls-Royce Sweptail         Price: $12.8 Million\n",
       "48         Bugatti La Voiture Noire         Price: $13.4 Million\n",
       "49           Rolls-Royce Boat Tail*  Price: $28.0 Million (est.)"
      ]
     },
     "execution_count": 117,
     "metadata": {},
     "output_type": "execute_result"
    }
   ],
   "source": [
    "df"
   ]
  },
  {
   "cell_type": "code",
   "execution_count": null,
   "id": "c0657c46",
   "metadata": {},
   "outputs": [],
   "source": []
  }
 ],
 "metadata": {
  "kernelspec": {
   "display_name": "Python 3 (ipykernel)",
   "language": "python",
   "name": "python3"
  },
  "language_info": {
   "codemirror_mode": {
    "name": "ipython",
    "version": 3
   },
   "file_extension": ".py",
   "mimetype": "text/x-python",
   "name": "python",
   "nbconvert_exporter": "python",
   "pygments_lexer": "ipython3",
   "version": "3.8.15"
  }
 },
 "nbformat": 4,
 "nbformat_minor": 5
}
